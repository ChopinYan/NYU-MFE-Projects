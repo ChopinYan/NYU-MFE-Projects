{
 "cells": [
  {
   "cell_type": "code",
   "source": [
    "!pip install transformers"
   ],
   "metadata": {
    "colab": {
     "base_uri": "https://localhost:8080/"
    },
    "id": "4uhC_CWf4YHJ",
    "executionInfo": {
     "status": "ok",
     "timestamp": 1666553891307,
     "user_tz": 240,
     "elapsed": 10611,
     "user": {
      "displayName": "Yuxuan Wang",
      "userId": "13171699468511251841"
     }
    },
    "outputId": "15f33cce-48e2-4b7f-8ece-e367a92c2dc1",
    "pycharm": {
     "name": "#%%\n"
    }
   },
   "id": "4uhC_CWf4YHJ",
   "execution_count": 1,
   "outputs": [
    {
     "output_type": "stream",
     "name": "stdout",
     "text": [
      "Looking in indexes: https://pypi.org/simple, https://us-python.pkg.dev/colab-wheels/public/simple/\n",
      "Collecting transformers\n",
      "  Downloading transformers-4.23.1-py3-none-any.whl (5.3 MB)\n",
      "\u001B[K     |████████████████████████████████| 5.3 MB 27.6 MB/s \n",
      "\u001B[?25hRequirement already satisfied: tqdm>=4.27 in /usr/local/lib/python3.7/dist-packages (from transformers) (4.64.1)\n",
      "Collecting huggingface-hub<1.0,>=0.10.0\n",
      "  Downloading huggingface_hub-0.10.1-py3-none-any.whl (163 kB)\n",
      "\u001B[K     |████████████████████████████████| 163 kB 57.9 MB/s \n",
      "\u001B[?25hRequirement already satisfied: numpy>=1.17 in /usr/local/lib/python3.7/dist-packages (from transformers) (1.21.6)\n",
      "Requirement already satisfied: regex!=2019.12.17 in /usr/local/lib/python3.7/dist-packages (from transformers) (2022.6.2)\n",
      "Requirement already satisfied: pyyaml>=5.1 in /usr/local/lib/python3.7/dist-packages (from transformers) (6.0)\n",
      "Requirement already satisfied: requests in /usr/local/lib/python3.7/dist-packages (from transformers) (2.23.0)\n",
      "Requirement already satisfied: filelock in /usr/local/lib/python3.7/dist-packages (from transformers) (3.8.0)\n",
      "Requirement already satisfied: packaging>=20.0 in /usr/local/lib/python3.7/dist-packages (from transformers) (21.3)\n",
      "Requirement already satisfied: importlib-metadata in /usr/local/lib/python3.7/dist-packages (from transformers) (4.13.0)\n",
      "Collecting tokenizers!=0.11.3,<0.14,>=0.11.1\n",
      "  Downloading tokenizers-0.13.1-cp37-cp37m-manylinux_2_17_x86_64.manylinux2014_x86_64.whl (7.6 MB)\n",
      "\u001B[K     |████████████████████████████████| 7.6 MB 59.4 MB/s \n",
      "\u001B[?25hRequirement already satisfied: typing-extensions>=3.7.4.3 in /usr/local/lib/python3.7/dist-packages (from huggingface-hub<1.0,>=0.10.0->transformers) (4.1.1)\n",
      "Requirement already satisfied: pyparsing!=3.0.5,>=2.0.2 in /usr/local/lib/python3.7/dist-packages (from packaging>=20.0->transformers) (3.0.9)\n",
      "Requirement already satisfied: zipp>=0.5 in /usr/local/lib/python3.7/dist-packages (from importlib-metadata->transformers) (3.9.0)\n",
      "Requirement already satisfied: certifi>=2017.4.17 in /usr/local/lib/python3.7/dist-packages (from requests->transformers) (2022.9.24)\n",
      "Requirement already satisfied: idna<3,>=2.5 in /usr/local/lib/python3.7/dist-packages (from requests->transformers) (2.10)\n",
      "Requirement already satisfied: urllib3!=1.25.0,!=1.25.1,<1.26,>=1.21.1 in /usr/local/lib/python3.7/dist-packages (from requests->transformers) (1.24.3)\n",
      "Requirement already satisfied: chardet<4,>=3.0.2 in /usr/local/lib/python3.7/dist-packages (from requests->transformers) (3.0.4)\n",
      "Installing collected packages: tokenizers, huggingface-hub, transformers\n",
      "Successfully installed huggingface-hub-0.10.1 tokenizers-0.13.1 transformers-4.23.1\n"
     ]
    }
   ]
  },
  {
   "cell_type": "code",
   "execution_count": 69,
   "id": "82654a68",
   "metadata": {
    "id": "82654a68",
    "executionInfo": {
     "status": "ok",
     "timestamp": 1666557141873,
     "user_tz": 240,
     "elapsed": 1099,
     "user": {
      "displayName": "Yuxuan Wang",
      "userId": "13171699468511251841"
     }
    },
    "pycharm": {
     "name": "#%%\n"
    }
   },
   "outputs": [],
   "source": [
    "import pandas as pd\n",
    "import numpy as np\n",
    "from transformers import BertModel, BertTokenizer\n",
    "from transformers import get_scheduler\n",
    "\n",
    "\n",
    "import torch\n",
    "import torch.nn as nn\n",
    "import torch.nn.functional as F\n",
    "\n",
    "from torch.optim import Adam, AdamW\n",
    "from torch.utils.data import Dataset, DataLoader\n",
    "from tqdm import tqdm, trange\n",
    "from sklearn.metrics import precision_score, accuracy_score, recall_score\n",
    "from sklearn.metrics import confusion_matrix, classification_report\n",
    "import warnings\n",
    "warnings.filterwarnings('ignore')\n",
    "\n",
    "import matplotlib.pyplot as plt\n",
    "import seaborn as sns\n",
    "\n",
    "from google.colab import drive\n",
    "drive.mount('/content/gdrive')"
   ]
  },
  {
   "cell_type": "code",
   "source": [
    "strategyTable = pd.DataFrame(columns = ['ticker', 'strategy', 'annual_return', 'annual_vol', 'annual_sharpe',\n",
    "                                        'cum_return', 'maxDD'])"
   ],
   "metadata": {
    "id": "8_Fm5jckyjgZ",
    "executionInfo": {
     "status": "ok",
     "timestamp": 1666564734016,
     "user_tz": 240,
     "elapsed": 321,
     "user": {
      "displayName": "Yuxuan Wang",
      "userId": "13171699468511251841"
     }
    },
    "pycharm": {
     "name": "#%%\n"
    }
   },
   "id": "8_Fm5jckyjgZ",
   "execution_count": 244,
   "outputs": []
  },
  {
   "cell_type": "code",
   "execution_count": null,
   "id": "a9dd2756",
   "metadata": {
    "colab": {
     "base_uri": "https://localhost:8080/"
    },
    "id": "a9dd2756",
    "executionInfo": {
     "status": "ok",
     "timestamp": 1666516512328,
     "user_tz": 240,
     "elapsed": 26,
     "user": {
      "displayName": "Yuxuan Wang",
      "userId": "13171699468511251841"
     }
    },
    "outputId": "deae700e-0342-4148-a7b2-0b617c855c66",
    "pycharm": {
     "name": "#%%\n"
    }
   },
   "outputs": [
    {
     "output_type": "execute_result",
     "data": {
      "text/plain": [
       "True"
      ]
     },
     "metadata": {},
     "execution_count": 100
    }
   ],
   "source": [
    "torch.cuda.is_available()"
   ]
  },
  {
   "cell_type": "code",
   "execution_count": 70,
   "id": "cf294760",
   "metadata": {
    "id": "cf294760",
    "executionInfo": {
     "status": "ok",
     "timestamp": 1666557642021,
     "user_tz": 240,
     "elapsed": 1,
     "user": {
      "displayName": "Yuxuan Wang",
      "userId": "13171699468511251841"
     }
    },
    "pycharm": {
     "name": "#%%\n"
    }
   },
   "outputs": [],
   "source": [
    "class simpleProcessor():\n",
    "    \n",
    "    def __init__(self, priceFile, newsFile, tickerName, priceType):\n",
    "        self.tickerName = tickerName\n",
    "        self.priceType = priceType\n",
    "        self.news_data = pd.read_csv(newsFile, index_col = [0])\n",
    "        self.price_vol = pd.read_csv(priceFile, index_col= [0])\n",
    "        self.crypto_price = self.price_vol[[tickerName + '-' + priceType]].shift(1)\n",
    "        self.crypto_news = self.news_data[[tickerName]]\n",
    "        self.crypto_price.index = pd.to_datetime(self.crypto_price.index).tz_convert(None)\n",
    "        self.crypto_news.index = pd.to_datetime(self.crypto_news.index)\n",
    "        self.data = None\n",
    "        \n",
    "    def getData(self):\n",
    "        data = self.crypto_news.merge(self.crypto_price, how = 'inner', left_index = True, right_index = True)\n",
    "        data[self.tickerName + '_summary'] = data.apply(lambda x :self.joinStr(x), axis = 1)\n",
    "        data['returns'] = data[self.tickerName + '-' + self.priceType].pct_change().shift(-1)\n",
    "        data['class'] = data['returns'] > 0\n",
    "        data = data.iloc[:-1, :]\n",
    "        \n",
    "        nonewsdate = data[data.isna().any(axis = 1)].index\n",
    "        newsdate = data[~data.isna().any(axis = 1)].index\n",
    "        \n",
    "        self.data = data[~data.isna().any(axis = 1)][[self.tickerName + '_summary', 'class']]\n",
    "        self.data.columns = ['text', 'class']\n",
    "        self.data['class'] = self.data['class'].map({True : 1, False : 0})\n",
    "        \n",
    "        return self.data.copy(), data\n",
    "        \n",
    "    @staticmethod\n",
    "    def joinStr(df):\n",
    "        lists = eval(df[0])\n",
    "        if(lists[0]):\n",
    "            return ' '.join(lists[0])\n",
    "        return np.nan"
   ]
  },
  {
   "cell_type": "markdown",
   "id": "c9a13d8b",
   "metadata": {
    "id": "c9a13d8b",
    "pycharm": {
     "name": "#%% md\n"
    }
   },
   "source": [
    "# Embedding + LSTM"
   ]
  },
  {
   "cell_type": "code",
   "execution_count": 26,
   "id": "6950eb11",
   "metadata": {
    "id": "6950eb11",
    "executionInfo": {
     "status": "ok",
     "timestamp": 1666554662451,
     "user_tz": 240,
     "elapsed": 9,
     "user": {
      "displayName": "Yuxuan Wang",
      "userId": "13171699468511251841"
     }
    },
    "pycharm": {
     "name": "#%%\n"
    }
   },
   "outputs": [],
   "source": [
    "class newsDataset(Dataset): \n",
    "    \n",
    "    def __init__(self, df, tokenizer):\n",
    "        self.labels = [i for i in df['class']]\n",
    "        self.texts = [tokenizer(str(text), \n",
    "                                padding='max_length',\n",
    "                                truncation = True, \n",
    "                                return_tensors='pt')\n",
    "                      for text in df['text']]\n",
    "        \n",
    "    def __len__(self):\n",
    "        return len(self.labels)\n",
    "    \n",
    "    def get_batch_labels(self, idx):\n",
    "        return np.array(self.labels[idx])\n",
    "    \n",
    "    def get_batch_text(self, idx):\n",
    "        return self.texts[idx]\n",
    "    \n",
    "    def __getitem__(self, idx):\n",
    "        batch_texts = self.get_batch_text(idx)\n",
    "        batch_labels = self.get_batch_labels(idx)\n",
    "        \n",
    "        return batch_texts, batch_labels"
   ]
  },
  {
   "cell_type": "code",
   "execution_count": 216,
   "id": "56f681f4",
   "metadata": {
    "id": "56f681f4",
    "executionInfo": {
     "status": "ok",
     "timestamp": 1666564482288,
     "user_tz": 240,
     "elapsed": 1649,
     "user": {
      "displayName": "Yuxuan Wang",
      "userId": "13171699468511251841"
     }
    },
    "pycharm": {
     "name": "#%%\n"
    }
   },
   "outputs": [],
   "source": [
    "class embeddingClassifier(nn.Module):\n",
    "    \n",
    "    def __init__(self, pre_trained = 'bert-base-uncased', lstm_layers = 2, lr = 1e-3):\n",
    "        super().__init__()\n",
    "        \n",
    "        self.device = torch.device('cuda' if torch.cuda.is_available() else 'cpu')\n",
    "        self.bert = BertModel.from_pretrained(pre_trained)\n",
    "        self.bert.requires_grad_(False) #frozen parameters\n",
    "        self.hidden_size = self.bert.config.hidden_size\n",
    "        \n",
    "        self.lstm_layers = lstm_layers\n",
    "        self.LSTM = nn.LSTM(input_size=self.hidden_size, hidden_size=256, num_layers=lstm_layers, dropout = 0.2)\n",
    "        \n",
    "        self.bn1 = nn.BatchNorm1d(256)\n",
    "        self.bn2 = nn.BatchNorm1d(64)\n",
    "\n",
    "        self.fc1 = nn.Linear(in_features=256, out_features=64)\n",
    "        self.fc2 = nn.Linear(in_features=64, out_features=1)\n",
    "        \n",
    "        self.optimizer = Adam(self.parameters(), lr = lr)\n",
    "        self.criterion = nn.BCELoss(reduction='sum')\n",
    "        \n",
    "    def forward(self, input_id, mask):\n",
    "        h = torch.zeros((self.lstm_layers, input_id.size(0), 256)).to(self.device)\n",
    "        c = torch.zeros((self.lstm_layers, input_id.size(0), 256)).to(self.device)\n",
    "        torch.nn.init.xavier_normal_(h)\n",
    "        torch.nn.init.xavier_normal_(c)\n",
    "        \n",
    "        encoded_layers = self.bert(input_ids=input_id, attention_mask=mask)[0]\n",
    "        encoded_layers = encoded_layers.permute(1, 0, 2)\n",
    "        \n",
    "        out, (hn, cn) = self.LSTM(encoded_layers, (h, c))\n",
    "        out = out[-1, :, :].view(-1, 256)\n",
    "        out = self.bn1(out)\n",
    "        \n",
    "        out = torch.relu_(self.fc1(out))\n",
    "        out = self.bn2(out)\n",
    "\n",
    "        out = torch.sigmoid(self.fc2(out))\n",
    "        \n",
    "        return out"
   ]
  },
  {
   "cell_type": "code",
   "execution_count": 34,
   "id": "ebf16a09",
   "metadata": {
    "id": "ebf16a09",
    "executionInfo": {
     "status": "ok",
     "timestamp": 1666554720544,
     "user_tz": 240,
     "elapsed": 389,
     "user": {
      "displayName": "Yuxuan Wang",
      "userId": "13171699468511251841"
     }
    },
    "pycharm": {
     "name": "#%%\n"
    }
   },
   "outputs": [],
   "source": [
    "def trainer(model, trainLoader, validLoader, epochs):\n",
    "    #epochs \n",
    "    trainloss = []\n",
    "    validloss = []\n",
    "    \n",
    "    model = model.to(model.device)\n",
    "    print(model.device)\n",
    "    for _ in trange(epochs):\n",
    "        \n",
    "        #set model to training model\n",
    "        model.train()\n",
    "        \n",
    "        total_loss = 0\n",
    "        total_num = 0\n",
    "        for train_inputs, train_labels in trainLoader:\n",
    "            \n",
    "            train_labels = train_labels.float()\n",
    "            train_labels = train_labels.to(model.device)\n",
    "            mask = train_inputs['attention_mask'].to(model.device)\n",
    "            input_id = train_inputs['input_ids'].squeeze(1).to(model.device) \n",
    "            \n",
    "            \n",
    "            model.optimizer.zero_grad()\n",
    "\n",
    "            output = model(input_id, mask)\n",
    "\n",
    "            loss = model.criterion(output, train_labels.unsqueeze(1))\n",
    "            loss.backward()\n",
    "                        \n",
    "            model.optimizer.step()\n",
    "            total_loss += loss.item()\n",
    "            \n",
    "            total_num += input_id.size(0)\n",
    "        \n",
    "        # Validation\n",
    "        model.eval()\n",
    "        \n",
    "        total_loss_val = 0\n",
    "        total_num_val = 0\n",
    "        preds = []\n",
    "        trues = []\n",
    "        with torch.no_grad():\n",
    "            \n",
    "            for valid_inputs, valid_labels in validLoader:\n",
    "                \n",
    "                valid_labels = valid_labels.float()\n",
    "                valid_labels = valid_labels.to(model.device)\n",
    "                mask = valid_inputs['attention_mask'].to(model.device)\n",
    "                input_id = valid_inputs['input_ids'].squeeze(1).to(model.device)\n",
    "                \n",
    "             \n",
    "                output = model(input_id, mask)\n",
    "                \n",
    "                loss = model.criterion(output, valid_labels.unsqueeze(1))\n",
    "                \n",
    "                total_loss_val += loss.item()\n",
    "                total_num_val += input_id.size(0)\n",
    "\n",
    "                probs = output.detach().cpu().numpy()\n",
    "                predictions = [1 if p > 0.5 else 0 for p in probs]\n",
    "                \n",
    "                labels = valid_labels.detach().cpu().numpy().flatten()\n",
    "                \n",
    "                \n",
    "                preds += list(predictions)\n",
    "                trues += list(labels)\n",
    "        \n",
    "        \n",
    "        trainloss.append(total_loss/total_num)\n",
    "        validloss.append(total_loss_val/total_num_val)\n",
    "        print('\\n\\t - Train loss : {:.4f}'.format(total_loss / total_num))\n",
    "        print('\\t - Validation loss : {:.4f}'.format(total_loss_val / total_num_val))\n",
    "        print('\\t - Validation accuracy : {:.4f}'.format(accuracy_score(trues, preds)))\n",
    "        print('\\t - Validation precision : {:.4f}'.format(precision_score(trues, preds)))\n",
    "        print('\\t - Validation recall : {:.4f}'.format(recall_score(trues, preds)))\n",
    "    \n",
    "    return trainloss, validloss"
   ]
  },
  {
   "cell_type": "code",
   "source": [
    "def evaluate(model, testLoader):\n",
    "    model = model.to(model.device)\n",
    "    preds = []\n",
    "    with torch.no_grad():\n",
    "      for test_inputs, test_labels in testLoader:\n",
    "\n",
    "        test_labels = test_labels.float()\n",
    "        test_labels = test_labels.to(model.device)\n",
    "        mask = test_inputs['attention_mask'].to(model.device)\n",
    "        input_id = test_inputs['input_ids'].squeeze(1).to(model.device)\n",
    "\n",
    "        output = model(input_id, mask)\n",
    "\n",
    "        probs = output.detach().cpu().numpy()\n",
    "        predictions = [1 if p > 0.5 else 0 for p in probs]\n",
    "\n",
    "        preds += list(predictions)        \n",
    "    \n",
    "    return preds"
   ],
   "metadata": {
    "id": "A2ZvmbxWe-pr",
    "executionInfo": {
     "status": "ok",
     "timestamp": 1666556671690,
     "user_tz": 240,
     "elapsed": 1,
     "user": {
      "displayName": "Yuxuan Wang",
      "userId": "13171699468511251841"
     }
    },
    "pycharm": {
     "name": "#%%\n"
    }
   },
   "id": "A2ZvmbxWe-pr",
   "execution_count": 56,
   "outputs": []
  },
  {
   "cell_type": "code",
   "execution_count": 295,
   "id": "6ddb80cd",
   "metadata": {
    "id": "6ddb80cd",
    "executionInfo": {
     "status": "ok",
     "timestamp": 1666566829044,
     "user_tz": 240,
     "elapsed": 1679,
     "user": {
      "displayName": "Yuxuan Wang",
      "userId": "13171699468511251841"
     }
    },
    "pycharm": {
     "name": "#%%\n"
    }
   },
   "outputs": [],
   "source": [
    "ticker = 'ETH'\n",
    "train_data1, data = simpleProcessor('/content/gdrive/MyDrive/Colab Notebooks/price_vol.csv', '/content/gdrive/MyDrive/Colab Notebooks/btc_eth.csv', ticker, 'close').getData()"
   ]
  },
  {
   "cell_type": "code",
   "execution_count": 296,
   "id": "2f2ffe7a",
   "metadata": {
    "id": "2f2ffe7a",
    "executionInfo": {
     "status": "ok",
     "timestamp": 1666566832230,
     "user_tz": 240,
     "elapsed": 6,
     "user": {
      "displayName": "Yuxuan Wang",
      "userId": "13171699468511251841"
     }
    },
    "pycharm": {
     "name": "#%%\n"
    }
   },
   "outputs": [],
   "source": [
    "percent = 0.8\n",
    "n = train_data1.shape[0]\n",
    "trainData, testData = train_data1.iloc[0 : int(n*percent)], train_data1.iloc[int(n*percent):]\n",
    "m = trainData.shape[0]\n",
    "trainData, validData = trainData.iloc[0 : int(m*percent)], trainData.iloc[int(m*percent): ]"
   ]
  },
  {
   "cell_type": "code",
   "source": [
    "backtest = testData\n",
    "y_test = list(testData.iloc[:, 1])"
   ],
   "metadata": {
    "id": "JniqMtn-hg_L",
    "executionInfo": {
     "status": "ok",
     "timestamp": 1666566833308,
     "user_tz": 240,
     "elapsed": 2,
     "user": {
      "displayName": "Yuxuan Wang",
      "userId": "13171699468511251841"
     }
    },
    "pycharm": {
     "name": "#%%\n"
    }
   },
   "id": "JniqMtn-hg_L",
   "execution_count": 297,
   "outputs": []
  },
  {
   "cell_type": "code",
   "execution_count": 298,
   "id": "e6d7b128",
   "metadata": {
    "id": "e6d7b128",
    "executionInfo": {
     "status": "ok",
     "timestamp": 1666566839989,
     "user_tz": 240,
     "elapsed": 5841,
     "user": {
      "displayName": "Yuxuan Wang",
      "userId": "13171699468511251841"
     }
    },
    "pycharm": {
     "name": "#%%\n"
    }
   },
   "outputs": [],
   "source": [
    "BERT_NAME = 'bert-base-uncased'\n",
    "tokenizer = BertTokenizer.from_pretrained(BERT_NAME)\n",
    "trainDataLoader = DataLoader(newsDataset(trainData, tokenizer), batch_size = 32, drop_last = True)\n",
    "validDataLoader = DataLoader(newsDataset(validData, tokenizer), batch_size = 32, drop_last = True)\n",
    "testDataLoader = DataLoader(newsDataset(testData, tokenizer), batch_size = 32)"
   ]
  },
  {
   "cell_type": "code",
   "execution_count": 299,
   "id": "f74abbb7",
   "metadata": {
    "colab": {
     "base_uri": "https://localhost:8080/"
    },
    "id": "f74abbb7",
    "executionInfo": {
     "status": "ok",
     "timestamp": 1666566906214,
     "user_tz": 240,
     "elapsed": 3429,
     "user": {
      "displayName": "Yuxuan Wang",
      "userId": "13171699468511251841"
     }
    },
    "outputId": "a489d317-09f6-4bfe-8f3d-b316721145f6",
    "pycharm": {
     "name": "#%%\n"
    }
   },
   "outputs": [
    {
     "output_type": "stream",
     "name": "stderr",
     "text": [
      "Some weights of the model checkpoint at bert-base-uncased were not used when initializing BertModel: ['cls.predictions.transform.LayerNorm.weight', 'cls.predictions.bias', 'cls.predictions.transform.dense.bias', 'cls.predictions.transform.LayerNorm.bias', 'cls.seq_relationship.bias', 'cls.predictions.transform.dense.weight', 'cls.seq_relationship.weight', 'cls.predictions.decoder.weight']\n",
      "- This IS expected if you are initializing BertModel from the checkpoint of a model trained on another task or with another architecture (e.g. initializing a BertForSequenceClassification model from a BertForPreTraining model).\n",
      "- This IS NOT expected if you are initializing BertModel from the checkpoint of a model that you expect to be exactly identical (initializing a BertForSequenceClassification model from a BertForSequenceClassification model).\n"
     ]
    }
   ],
   "source": [
    "num_epochs = 5\n",
    "model = embeddingClassifier(lr = 1e-4)"
   ]
  },
  {
   "cell_type": "code",
   "execution_count": 300,
   "id": "c6d842b7",
   "metadata": {
    "colab": {
     "base_uri": "https://localhost:8080/"
    },
    "id": "c6d842b7",
    "executionInfo": {
     "status": "ok",
     "timestamp": 1666567421542,
     "user_tz": 240,
     "elapsed": 512452,
     "user": {
      "displayName": "Yuxuan Wang",
      "userId": "13171699468511251841"
     }
    },
    "outputId": "c4a8819d-723e-40b4-9049-fccf32306e42",
    "pycharm": {
     "name": "#%%\n"
    }
   },
   "outputs": [
    {
     "output_type": "stream",
     "name": "stdout",
     "text": [
      "cuda\n"
     ]
    },
    {
     "output_type": "stream",
     "name": "stderr",
     "text": [
      " 20%|██        | 1/5 [01:42<06:49, 102.37s/it]"
     ]
    },
    {
     "output_type": "stream",
     "name": "stdout",
     "text": [
      "\n",
      "\t - Train loss : 0.7294\n",
      "\t - Validation loss : 0.7072\n",
      "\t - Validation accuracy : 0.4809\n",
      "\t - Validation precision : 0.5064\n",
      "\t - Validation recall : 0.5248\n"
     ]
    },
    {
     "output_type": "stream",
     "name": "stderr",
     "text": [
      "\r 40%|████      | 2/5 [03:24<05:07, 102.45s/it]"
     ]
    },
    {
     "output_type": "stream",
     "name": "stdout",
     "text": [
      "\n",
      "\t - Train loss : 0.6832\n",
      "\t - Validation loss : 0.7175\n",
      "\t - Validation accuracy : 0.4878\n",
      "\t - Validation precision : 0.5121\n",
      "\t - Validation recall : 0.5578\n"
     ]
    },
    {
     "output_type": "stream",
     "name": "stderr",
     "text": [
      "\r 60%|██████    | 3/5 [05:07<03:24, 102.45s/it]"
     ]
    },
    {
     "output_type": "stream",
     "name": "stdout",
     "text": [
      "\n",
      "\t - Train loss : 0.6720\n",
      "\t - Validation loss : 0.7194\n",
      "\t - Validation accuracy : 0.5000\n",
      "\t - Validation precision : 0.5225\n",
      "\t - Validation recall : 0.5743\n"
     ]
    },
    {
     "output_type": "stream",
     "name": "stderr",
     "text": [
      "\r 80%|████████  | 4/5 [06:49<01:42, 102.46s/it]"
     ]
    },
    {
     "output_type": "stream",
     "name": "stdout",
     "text": [
      "\n",
      "\t - Train loss : 0.6608\n",
      "\t - Validation loss : 0.7171\n",
      "\t - Validation accuracy : 0.5000\n",
      "\t - Validation precision : 0.5235\n",
      "\t - Validation recall : 0.5512\n"
     ]
    },
    {
     "output_type": "stream",
     "name": "stderr",
     "text": [
      "100%|██████████| 5/5 [08:32<00:00, 102.45s/it]"
     ]
    },
    {
     "output_type": "stream",
     "name": "stdout",
     "text": [
      "\n",
      "\t - Train loss : 0.6413\n",
      "\t - Validation loss : 0.7523\n",
      "\t - Validation accuracy : 0.4913\n",
      "\t - Validation precision : 0.5184\n",
      "\t - Validation recall : 0.4653\n"
     ]
    },
    {
     "output_type": "stream",
     "name": "stderr",
     "text": [
      "\n"
     ]
    }
   ],
   "source": [
    "trainloss, validloss = trainer(model, trainDataLoader, validDataLoader, num_epochs)"
   ]
  },
  {
   "cell_type": "code",
   "execution_count": 301,
   "id": "b9349911",
   "metadata": {
    "colab": {
     "base_uri": "https://localhost:8080/",
     "height": 339
    },
    "id": "b9349911",
    "executionInfo": {
     "status": "ok",
     "timestamp": 1666567425595,
     "user_tz": 240,
     "elapsed": 335,
     "user": {
      "displayName": "Yuxuan Wang",
      "userId": "13171699468511251841"
     }
    },
    "outputId": "0daddb52-66a4-444c-cfc7-f947788aa2ce",
    "pycharm": {
     "name": "#%%\n"
    }
   },
   "outputs": [
    {
     "output_type": "execute_result",
     "data": {
      "text/plain": [
       "<matplotlib.legend.Legend at 0x7faa7807a290>"
      ]
     },
     "metadata": {},
     "execution_count": 301
    },
    {
     "output_type": "display_data",
     "data": {
      "text/plain": [
       "<Figure size 720x360 with 1 Axes>"
      ],
      "image/png": "[encoded data removed]"
     },
     "metadata": {}
    }
   ],
   "source": [
    "sns.set()\n",
    "plt.figure(figsize=(10, 5))\n",
    "plt.plot(trainloss, label='train_loss')\n",
    "plt.plot(validloss, label='valid_loss')\n",
    "plt.legend(fontsize=10)"
   ]
  },
  {
   "cell_type": "code",
   "source": [
    "model_save_name = '{}_model.pt'.format(ticker)\n",
    "path = F\"/content/gdrive/MyDrive/Colab Notebooks/{model_save_name}\" \n",
    "torch.save(model.state_dict(), path)"
   ],
   "metadata": {
    "id": "GP6-2R5tv5-G",
    "executionInfo": {
     "status": "ok",
     "timestamp": 1666567431039,
     "user_tz": 240,
     "elapsed": 2473,
     "user": {
      "displayName": "Yuxuan Wang",
      "userId": "13171699468511251841"
     }
    },
    "pycharm": {
     "name": "#%%\n"
    }
   },
   "id": "GP6-2R5tv5-G",
   "execution_count": 302,
   "outputs": []
  },
  {
   "cell_type": "code",
   "source": [
    "y_test_pred = evaluate(model, testDataLoader)"
   ],
   "metadata": {
    "id": "GTPsoRsZgN35",
    "executionInfo": {
     "status": "ok",
     "timestamp": 1666567488579,
     "user_tz": 240,
     "elapsed": 24462,
     "user": {
      "displayName": "Yuxuan Wang",
      "userId": "13171699468511251841"
     }
    },
    "pycharm": {
     "name": "#%%\n"
    }
   },
   "id": "GTPsoRsZgN35",
   "execution_count": 303,
   "outputs": []
  },
  {
   "cell_type": "markdown",
   "source": [
    "# Evaluate"
   ],
   "metadata": {
    "id": "NnxUuC72jA9K",
    "pycharm": {
     "name": "#%% md\n"
    }
   },
   "id": "NnxUuC72jA9K"
  },
  {
   "cell_type": "code",
   "source": [
    "cm_test = confusion_matrix(y_test, y_test_pred, labels = [1, 0])\n",
    "plt.figure(figsize = (6,6))\n",
    "s = sns.heatmap(cm_test, annot= True, fmt = 'd', annot_kws={'size': 16}, \n",
    "                cmap ='YlGnBu', xticklabels=[1, 0], yticklabels=[1, 0])\n",
    "_ = s.set_xlabel('Predicted')\n",
    "_ = s.set_ylabel('True')\n",
    "_ = s.set_title('Confusion Matrix of Test Set')"
   ],
   "metadata": {
    "colab": {
     "base_uri": "https://localhost:8080/",
     "height": 410
    },
    "id": "MBe7GaIOjGs8",
    "executionInfo": {
     "status": "ok",
     "timestamp": 1666567515781,
     "user_tz": 240,
     "elapsed": 1555,
     "user": {
      "displayName": "Yuxuan Wang",
      "userId": "13171699468511251841"
     }
    },
    "outputId": "7b6b3b0a-f25b-49f3-d3a0-b55c53d112de",
    "pycharm": {
     "name": "#%%\n"
    }
   },
   "id": "MBe7GaIOjGs8",
   "execution_count": 304,
   "outputs": [
    {
     "output_type": "display_data",
     "data": {
      "text/plain": [
       "<Figure size 432x432 with 2 Axes>"
      ],
      "image/png": "[encoded data removed]"
     },
     "metadata": {}
    }
   ]
  },
  {
   "cell_type": "code",
   "source": [
    "print(classification_report(y_test, y_test_pred, labels = [1, 0]))"
   ],
   "metadata": {
    "colab": {
     "base_uri": "https://localhost:8080/"
    },
    "id": "ekks99W8rTt9",
    "executionInfo": {
     "status": "ok",
     "timestamp": 1666567519314,
     "user_tz": 240,
     "elapsed": 331,
     "user": {
      "displayName": "Yuxuan Wang",
      "userId": "13171699468511251841"
     }
    },
    "outputId": "fa316e75-96f6-4544-e344-a8d81557d642",
    "pycharm": {
     "name": "#%%\n"
    }
   },
   "id": "ekks99W8rTt9",
   "execution_count": 305,
   "outputs": [
    {
     "output_type": "stream",
     "name": "stdout",
     "text": [
      "              precision    recall  f1-score   support\n",
      "\n",
      "           1       0.54      0.54      0.54       368\n",
      "           0       0.55      0.54      0.55       377\n",
      "\n",
      "    accuracy                           0.54       745\n",
      "   macro avg       0.54      0.54      0.54       745\n",
      "weighted avg       0.54      0.54      0.54       745\n",
      "\n"
     ]
    }
   ]
  },
  {
   "cell_type": "markdown",
   "source": [
    "# Simple Backtest\n"
   ],
   "metadata": {
    "id": "HR0fIkNCrnGx",
    "pycharm": {
     "name": "#%% md\n"
    }
   },
   "id": "HR0fIkNCrnGx"
  },
  {
   "cell_type": "code",
   "source": [
    "class backtestMetrics:\n",
    "    \n",
    "    def __init__(self, df):\n",
    "        self.df = df\n",
    "        self.df_dailyreturn = (df - df.shift(1))/df.shift(1)\n",
    "        self.N = len(df) - 1\n",
    "        \n",
    "    def get_return(self):\n",
    "        return (np.power(self.df.iloc[-1,:]/self.df.iloc[0,:],365*24/self.N) - 1)[0]\n",
    "    \n",
    "    def get_vol(self):\n",
    "        return (np.std(self.df_dailyreturn)*np.sqrt(365*24))[0]\n",
    "    \n",
    "    def get_sharpe(self):\n",
    "        return (self.get_return()/self.get_vol())\n",
    "    \n",
    "    def get_cumReturn(self):\n",
    "        return (self.df.iloc[-1,:]/self.df.iloc[0,:] - 1)[0]\n",
    "    \n",
    "    def get_maxdd(self):\n",
    "        return ((np.maximum.accumulate(self.df) - self.df)/np.maximum.accumulate(self.df)).max()[0]\n",
    "    \n",
    "    def strategy_map(self, ticker, strategy_type):\n",
    "        map1 = {'ticker': ticker,\n",
    "        'strategy': strategy_type, \n",
    "        'annual_return': self.get_return(),\n",
    "        'annual_vol': self.get_vol(),\n",
    "        'annual_sharpe': self.get_sharpe(),\n",
    "        'cum_return': self.get_cumReturn(),\n",
    "        'maxDD': self.get_maxdd()}\n",
    "        \n",
    "        return map1"
   ],
   "metadata": {
    "id": "yudmBc8Krpxf",
    "executionInfo": {
     "status": "ok",
     "timestamp": 1666567522539,
     "user_tz": 240,
     "elapsed": 320,
     "user": {
      "displayName": "Yuxuan Wang",
      "userId": "13171699468511251841"
     }
    },
    "pycharm": {
     "name": "#%%\n"
    }
   },
   "id": "yudmBc8Krpxf",
   "execution_count": 306,
   "outputs": []
  },
  {
   "cell_type": "code",
   "source": [
    "def simpleBacktest(backtest, y_pred_test, data):\n",
    "    \n",
    "    backtest['signal'] = y_pred_test\n",
    "    backtest_start_date = backtest.index[0]\n",
    "    \n",
    "    allBacktest = data[data.index >= backtest_start_date][['returns']]\n",
    "    backtestTable = allBacktest.merge(backtest[['signal']], how = 'left', left_index=True, right_index=True)\n",
    "    backtestTable = backtestTable.fillna(method = 'ffill') # maintain viewpoints\n",
    "    \n",
    "    def simpleBacktest(df):\n",
    "        if(df[1] == 1):\n",
    "            return df[0]\n",
    "        return 0.0\n",
    "    \n",
    "    backtestTable['realized_returns'] = backtestTable.apply(lambda x: simpleBacktest(x), axis = 1)\n",
    "    backtestTable['strat_nav'] = (1 + backtestTable['realized_returns']).cumprod()\n",
    "    backtestTable['nav'] = (1 + backtestTable['returns']).cumprod()\n",
    "    \n",
    "    return backtestTable"
   ],
   "metadata": {
    "id": "-xAhhuIprqQC",
    "executionInfo": {
     "status": "ok",
     "timestamp": 1666567526566,
     "user_tz": 240,
     "elapsed": 484,
     "user": {
      "displayName": "Yuxuan Wang",
      "userId": "13171699468511251841"
     }
    },
    "pycharm": {
     "name": "#%%\n"
    }
   },
   "id": "-xAhhuIprqQC",
   "execution_count": 307,
   "outputs": []
  },
  {
   "cell_type": "code",
   "source": [
    "backtestTable = simpleBacktest(backtest, y_test_pred, data)\n",
    "backtestTable_name = 'backtest_{}.csv'.format(ticker)\n",
    "path = F\"/content/gdrive/MyDrive/Colab Notebooks/{backtestTable_name}\" \n",
    "backtestTable.to_csv(path)"
   ],
   "metadata": {
    "id": "lcTdC41Ir_2z",
    "executionInfo": {
     "status": "ok",
     "timestamp": 1666567530126,
     "user_tz": 240,
     "elapsed": 3,
     "user": {
      "displayName": "Yuxuan Wang",
      "userId": "13171699468511251841"
     }
    },
    "pycharm": {
     "name": "#%%\n"
    }
   },
   "id": "lcTdC41Ir_2z",
   "execution_count": 308,
   "outputs": []
  },
  {
   "cell_type": "code",
   "source": [
    "sns.set()\n",
    "plt.figure(figsize=(10, 5), dpi=300)\n",
    "plt.plot(backtestTable['nav'], label='nav')\n",
    "plt.plot(backtestTable['strat_nav'], label='strat_nav')\n",
    "plt.legend(fontsize=10)"
   ],
   "metadata": {
    "colab": {
     "base_uri": "https://localhost:8080/",
     "height": 1000
    },
    "id": "FI5O5YoesGEd",
    "executionInfo": {
     "status": "ok",
     "timestamp": 1666567532326,
     "user_tz": 240,
     "elapsed": 2202,
     "user": {
      "displayName": "Yuxuan Wang",
      "userId": "13171699468511251841"
     }
    },
    "outputId": "49d75b1c-dfa7-4f68-f45c-29693aae452d",
    "pycharm": {
     "name": "#%%\n"
    }
   },
   "id": "FI5O5YoesGEd",
   "execution_count": 309,
   "outputs": [
    {
     "output_type": "execute_result",
     "data": {
      "text/plain": [
       "<matplotlib.legend.Legend at 0x7faa902741d0>"
      ]
     },
     "metadata": {},
     "execution_count": 309
    },
    {
     "output_type": "display_data",
     "data": {
      "text/plain": [
       "<Figure size 3000x1500 with 1 Axes>"
      ],
      "image/png": "[encoded data removed]"
     },
     "metadata": {}
    }
   ]
  },
  {
   "cell_type": "code",
   "source": [
    "print(\"Simple Strategy\")\n",
    "strategyMetrics = backtestMetrics(backtestTable[['strat_nav']])\n",
    "print(\"Annual Return : {}\".format(strategyMetrics.get_return()))\n",
    "print(\"Annual Vol : {}\".format(strategyMetrics.get_vol()))\n",
    "print(\"Annual Sharpe : {}\".format(strategyMetrics.get_sharpe()))\n",
    "print(\"Cumulative Return : {}\".format(strategyMetrics.get_cumReturn()))\n",
    "print(\"Annual Max DD : {}\".format(strategyMetrics.get_maxdd()))"
   ],
   "metadata": {
    "colab": {
     "base_uri": "https://localhost:8080/"
    },
    "id": "L0essqq2sI5n",
    "executionInfo": {
     "status": "ok",
     "timestamp": 1666567575553,
     "user_tz": 240,
     "elapsed": 313,
     "user": {
      "displayName": "Yuxuan Wang",
      "userId": "13171699468511251841"
     }
    },
    "outputId": "faee2779-e566-40af-8a9f-6742d0d0b3f6",
    "pycharm": {
     "name": "#%%\n"
    }
   },
   "id": "L0essqq2sI5n",
   "execution_count": 310,
   "outputs": [
    {
     "output_type": "stream",
     "name": "stdout",
     "text": [
      "Simple Strategy\n",
      "Annual Return : 0.4260932733414282\n",
      "Annual Vol : 0.5872950983507035\n",
      "Annual Sharpe : 0.7255181841939816\n",
      "Cumulative Return : 0.039748057280563964\n",
      "Annual Max DD : 0.18357963605552127\n"
     ]
    }
   ]
  },
  {
   "cell_type": "code",
   "source": [
    "strategyTable = strategyTable.append(backtestMetrics(backtestTable[['strat_nav']]).strategy_map(ticker, 'simple_strategy'), ignore_index=True)"
   ],
   "metadata": {
    "id": "RahitvUo3GDB",
    "executionInfo": {
     "status": "ok",
     "timestamp": 1666567578422,
     "user_tz": 240,
     "elapsed": 316,
     "user": {
      "displayName": "Yuxuan Wang",
      "userId": "13171699468511251841"
     }
    },
    "pycharm": {
     "name": "#%%\n"
    }
   },
   "id": "RahitvUo3GDB",
   "execution_count": 311,
   "outputs": []
  },
  {
   "cell_type": "code",
   "source": [
    "print(\"Buy and Hold\")\n",
    "strategyMetrics = backtestMetrics(backtestTable[['nav']])\n",
    "print(\"Annual Return : {}\".format(strategyMetrics.get_return()))\n",
    "print(\"Annual Vol : {}\".format(strategyMetrics.get_vol()))\n",
    "print(\"Annual Sharpe : {}\".format(strategyMetrics.get_sharpe()))\n",
    "print(\"Cumulative Return : {}\".format(strategyMetrics.get_cumReturn()))\n",
    "print(\"Annual Max DD : {}\".format(strategyMetrics.get_maxdd()))"
   ],
   "metadata": {
    "colab": {
     "base_uri": "https://localhost:8080/"
    },
    "id": "gHxuieCbvR19",
    "executionInfo": {
     "status": "ok",
     "timestamp": 1666567581643,
     "user_tz": 240,
     "elapsed": 826,
     "user": {
      "displayName": "Yuxuan Wang",
      "userId": "13171699468511251841"
     }
    },
    "outputId": "9aa780a4-627f-4bad-bc31-d6147ea62dc6",
    "pycharm": {
     "name": "#%%\n"
    }
   },
   "id": "gHxuieCbvR19",
   "execution_count": 312,
   "outputs": [
    {
     "output_type": "stream",
     "name": "stdout",
     "text": [
      "Buy and Hold\n",
      "Annual Return : -0.9646191393260984\n",
      "Annual Vol : 0.7818992462368775\n",
      "Annual Sharpe : -1.2336872608185963\n",
      "Cumulative Return : -0.307165367640995\n",
      "Annual Max DD : 0.3640397652583056\n"
     ]
    }
   ]
  },
  {
   "cell_type": "code",
   "source": [
    "strategyTable = strategyTable.append(backtestMetrics(backtestTable[['nav']]).strategy_map(ticker, 'buy_and_hold'), ignore_index=True)"
   ],
   "metadata": {
    "id": "ncqsTk5ByghK",
    "executionInfo": {
     "status": "ok",
     "timestamp": 1666567585100,
     "user_tz": 240,
     "elapsed": 346,
     "user": {
      "displayName": "Yuxuan Wang",
      "userId": "13171699468511251841"
     }
    },
    "pycharm": {
     "name": "#%%\n"
    }
   },
   "id": "ncqsTk5ByghK",
   "execution_count": 313,
   "outputs": []
  },
  {
   "cell_type": "code",
   "source": [
    "strategyTable"
   ],
   "metadata": {
    "colab": {
     "base_uri": "https://localhost:8080/",
     "height": 300
    },
    "id": "8dw_ASlk3U5t",
    "executionInfo": {
     "status": "ok",
     "timestamp": 1666567588176,
     "user_tz": 240,
     "elapsed": 1028,
     "user": {
      "displayName": "Yuxuan Wang",
      "userId": "13171699468511251841"
     }
    },
    "outputId": "ef06800d-11f9-4e49-9d92-8289b6d8b2c4",
    "pycharm": {
     "name": "#%%\n"
    }
   },
   "id": "8dw_ASlk3U5t",
   "execution_count": 314,
   "outputs": [
    {
     "output_type": "execute_result",
     "data": {
      "text/plain": [
       "  ticker         strategy  annual_return  annual_vol  annual_sharpe  \\\n",
       "0    BNB  simple_strategy      -0.209633    0.358707      -0.584413   \n",
       "1    BNB     buy_and_hold      -0.466757    0.555109      -0.840839   \n",
       "2    BTC  simple_strategy      -0.626720    0.455452      -1.376039   \n",
       "3    BTC     buy_and_hold      -0.895990    0.526264      -1.702547   \n",
       "4    BTC  simple_strategy       0.572514    0.356940       1.603952   \n",
       "5    BTC     buy_and_hold      -0.895990    0.526264      -1.702547   \n",
       "6    ETH  simple_strategy       0.426093    0.587295       0.725518   \n",
       "7    ETH     buy_and_hold      -0.964619    0.781899      -1.233687   \n",
       "\n",
       "   cum_return     maxDD  \n",
       "0   -0.033117  0.143503  \n",
       "1   -0.086078  0.228866  \n",
       "2   -0.108905  0.160747  \n",
       "3   -0.232658  0.259941  \n",
       "4    0.054395  0.083991  \n",
       "5   -0.232658  0.259941  \n",
       "6    0.039748  0.183580  \n",
       "7   -0.307165  0.364040  "
      ],
      "text/html": [
       "\n",
       "  <div id=\"df-23e391a9-397d-40ed-8f4a-f4f12b7a53db\">\n",
       "    <div class=\"colab-df-container\">\n",
       "      <div>\n",
       "<style scoped>\n",
       "    .dataframe tbody tr th:only-of-type {\n",
       "        vertical-align: middle;\n",
       "    }\n",
       "\n",
       "    .dataframe tbody tr th {\n",
       "        vertical-align: top;\n",
       "    }\n",
       "\n",
       "    .dataframe thead th {\n",
       "        text-align: right;\n",
       "    }\n",
       "</style>\n",
       "<table border=\"1\" class=\"dataframe\">\n",
       "  <thead>\n",
       "    <tr style=\"text-align: right;\">\n",
       "      <th></th>\n",
       "      <th>ticker</th>\n",
       "      <th>strategy</th>\n",
       "      <th>annual_return</th>\n",
       "      <th>annual_vol</th>\n",
       "      <th>annual_sharpe</th>\n",
       "      <th>cum_return</th>\n",
       "      <th>maxDD</th>\n",
       "    </tr>\n",
       "  </thead>\n",
       "  <tbody>\n",
       "    <tr>\n",
       "      <th>0</th>\n",
       "      <td>BNB</td>\n",
       "      <td>simple_strategy</td>\n",
       "      <td>-0.209633</td>\n",
       "      <td>0.358707</td>\n",
       "      <td>-0.584413</td>\n",
       "      <td>-0.033117</td>\n",
       "      <td>0.143503</td>\n",
       "    </tr>\n",
       "    <tr>\n",
       "      <th>1</th>\n",
       "      <td>BNB</td>\n",
       "      <td>buy_and_hold</td>\n",
       "      <td>-0.466757</td>\n",
       "      <td>0.555109</td>\n",
       "      <td>-0.840839</td>\n",
       "      <td>-0.086078</td>\n",
       "      <td>0.228866</td>\n",
       "    </tr>\n",
       "    <tr>\n",
       "      <th>2</th>\n",
       "      <td>BTC</td>\n",
       "      <td>simple_strategy</td>\n",
       "      <td>-0.626720</td>\n",
       "      <td>0.455452</td>\n",
       "      <td>-1.376039</td>\n",
       "      <td>-0.108905</td>\n",
       "      <td>0.160747</td>\n",
       "    </tr>\n",
       "    <tr>\n",
       "      <th>3</th>\n",
       "      <td>BTC</td>\n",
       "      <td>buy_and_hold</td>\n",
       "      <td>-0.895990</td>\n",
       "      <td>0.526264</td>\n",
       "      <td>-1.702547</td>\n",
       "      <td>-0.232658</td>\n",
       "      <td>0.259941</td>\n",
       "    </tr>\n",
       "    <tr>\n",
       "      <th>4</th>\n",
       "      <td>BTC</td>\n",
       "      <td>simple_strategy</td>\n",
       "      <td>0.572514</td>\n",
       "      <td>0.356940</td>\n",
       "      <td>1.603952</td>\n",
       "      <td>0.054395</td>\n",
       "      <td>0.083991</td>\n",
       "    </tr>\n",
       "    <tr>\n",
       "      <th>5</th>\n",
       "      <td>BTC</td>\n",
       "      <td>buy_and_hold</td>\n",
       "      <td>-0.895990</td>\n",
       "      <td>0.526264</td>\n",
       "      <td>-1.702547</td>\n",
       "      <td>-0.232658</td>\n",
       "      <td>0.259941</td>\n",
       "    </tr>\n",
       "    <tr>\n",
       "      <th>6</th>\n",
       "      <td>ETH</td>\n",
       "      <td>simple_strategy</td>\n",
       "      <td>0.426093</td>\n",
       "      <td>0.587295</td>\n",
       "      <td>0.725518</td>\n",
       "      <td>0.039748</td>\n",
       "      <td>0.183580</td>\n",
       "    </tr>\n",
       "    <tr>\n",
       "      <th>7</th>\n",
       "      <td>ETH</td>\n",
       "      <td>buy_and_hold</td>\n",
       "      <td>-0.964619</td>\n",
       "      <td>0.781899</td>\n",
       "      <td>-1.233687</td>\n",
       "      <td>-0.307165</td>\n",
       "      <td>0.364040</td>\n",
       "    </tr>\n",
       "  </tbody>\n",
       "</table>\n",
       "</div>\n",
       "      <button class=\"colab-df-convert\" onclick=\"convertToInteractive('df-23e391a9-397d-40ed-8f4a-f4f12b7a53db')\"\n",
       "              title=\"Convert this dataframe to an interactive table.\"\n",
       "              style=\"display:none;\">\n",
       "        \n",
       "  <svg xmlns=\"http://www.w3.org/2000/svg\" height=\"24px\"viewBox=\"0 0 24 24\"\n",
       "       width=\"24px\">\n",
       "    <path d=\"M0 0h24v24H0V0z\" fill=\"none\"/>\n",
       "    <path d=\"M18.56 5.44l.94 2.06.94-2.06 2.06-.94-2.06-.94-.94-2.06-.94 2.06-2.06.94zm-11 1L8.5 8.5l.94-2.06 2.06-.94-2.06-.94L8.5 2.5l-.94 2.06-2.06.94zm10 10l.94 2.06.94-2.06 2.06-.94-2.06-.94-.94-2.06-.94 2.06-2.06.94z\"/><path d=\"M17.41 7.96l-1.37-1.37c-.4-.4-.92-.59-1.43-.59-.52 0-1.04.2-1.43.59L10.3 9.45l-7.72 7.72c-.78.78-.78 2.05 0 2.83L4 21.41c.39.39.9.59 1.41.59.51 0 1.02-.2 1.41-.59l7.78-7.78 2.81-2.81c.8-.78.8-2.07 0-2.86zM5.41 20L4 18.59l7.72-7.72 1.47 1.35L5.41 20z\"/>\n",
       "  </svg>\n",
       "      </button>\n",
       "      \n",
       "  <style>\n",
       "    .colab-df-container {\n",
       "      display:flex;\n",
       "      flex-wrap:wrap;\n",
       "      gap: 12px;\n",
       "    }\n",
       "\n",
       "    .colab-df-convert {\n",
       "      background-color: #E8F0FE;\n",
       "      border: none;\n",
       "      border-radius: 50%;\n",
       "      cursor: pointer;\n",
       "      display: none;\n",
       "      fill: #1967D2;\n",
       "      height: 32px;\n",
       "      padding: 0 0 0 0;\n",
       "      width: 32px;\n",
       "    }\n",
       "\n",
       "    .colab-df-convert:hover {\n",
       "      background-color: #E2EBFA;\n",
       "      box-shadow: 0px 1px 2px rgba(60, 64, 67, 0.3), 0px 1px 3px 1px rgba(60, 64, 67, 0.15);\n",
       "      fill: #174EA6;\n",
       "    }\n",
       "\n",
       "    [theme=dark] .colab-df-convert {\n",
       "      background-color: #3B4455;\n",
       "      fill: #D2E3FC;\n",
       "    }\n",
       "\n",
       "    [theme=dark] .colab-df-convert:hover {\n",
       "      background-color: #434B5C;\n",
       "      box-shadow: 0px 1px 3px 1px rgba(0, 0, 0, 0.15);\n",
       "      filter: drop-shadow(0px 1px 2px rgba(0, 0, 0, 0.3));\n",
       "      fill: #FFFFFF;\n",
       "    }\n",
       "  </style>\n",
       "\n",
       "      <script>\n",
       "        const buttonEl =\n",
       "          document.querySelector('#df-23e391a9-397d-40ed-8f4a-f4f12b7a53db button.colab-df-convert');\n",
       "        buttonEl.style.display =\n",
       "          google.colab.kernel.accessAllowed ? 'block' : 'none';\n",
       "\n",
       "        async function convertToInteractive(key) {\n",
       "          const element = document.querySelector('#df-23e391a9-397d-40ed-8f4a-f4f12b7a53db');\n",
       "          const dataTable =\n",
       "            await google.colab.kernel.invokeFunction('convertToInteractive',\n",
       "                                                     [key], {});\n",
       "          if (!dataTable) return;\n",
       "\n",
       "          const docLinkHtml = 'Like what you see? Visit the ' +\n",
       "            '<a target=\"_blank\" href=https://colab.research.google.com/notebooks/data_table.ipynb>data table notebook</a>'\n",
       "            + ' to learn more about interactive tables.';\n",
       "          element.innerHTML = '';\n",
       "          dataTable['output_type'] = 'display_data';\n",
       "          await google.colab.output.renderOutput(dataTable, element);\n",
       "          const docLink = document.createElement('div');\n",
       "          docLink.innerHTML = docLinkHtml;\n",
       "          element.appendChild(docLink);\n",
       "        }\n",
       "      </script>\n",
       "    </div>\n",
       "  </div>\n",
       "  "
      ]
     },
     "metadata": {},
     "execution_count": 314
    }
   ]
  },
  {
   "cell_type": "code",
   "source": [
    "path = F\"/content/gdrive/MyDrive/Colab Notebooks/strategyTable.csv\" \n",
    "strategyTable.to_csv(\"strategyTable.csv\")"
   ],
   "metadata": {
    "id": "qL4vRVn_3LcL",
    "executionInfo": {
     "status": "ok",
     "timestamp": 1666567618798,
     "user_tz": 240,
     "elapsed": 309,
     "user": {
      "displayName": "Yuxuan Wang",
      "userId": "13171699468511251841"
     }
    },
    "pycharm": {
     "name": "#%%\n"
    }
   },
   "id": "qL4vRVn_3LcL",
   "execution_count": 315,
   "outputs": []
  },
  {
   "cell_type": "code",
   "source": [],
   "metadata": {
    "id": "FeUgAfU3K74_",
    "pycharm": {
     "name": "#%%\n"
    }
   },
   "id": "FeUgAfU3K74_",
   "execution_count": null,
   "outputs": []
  }
 ],
 "metadata": {
  "kernelspec": {
   "display_name": "Python 3 (ipykernel)",
   "language": "python",
   "name": "python3"
  },
  "language_info": {
   "codemirror_mode": {
    "name": "ipython",
    "version": 3
   },
   "file_extension": ".py",
   "mimetype": "text/x-python",
   "name": "python",
   "nbconvert_exporter": "python",
   "pygments_lexer": "ipython3",
   "version": "3.8.8"
  },
  "toc": {
   "base_numbering": 1,
   "nav_menu": {},
   "number_sections": true,
   "sideBar": true,
   "skip_h1_title": false,
   "title_cell": "Table of Contents",
   "title_sidebar": "Contents",
   "toc_cell": false,
   "toc_position": {},
   "toc_section_display": true,
   "toc_window_display": false
  },
  "colab": {
   "provenance": [],
   "collapsed_sections": []
  },
  "accelerator": "GPU"
 },
 "nbformat": 4,
 "nbformat_minor": 5
}
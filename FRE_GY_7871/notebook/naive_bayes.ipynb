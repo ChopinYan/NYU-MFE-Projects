{
 "cells": [
  {
   "cell_type": "code",
   "execution_count": 273,
   "id": "9af4a72d",
   "metadata": {},
   "outputs": [
    {
     "name": "stderr",
     "output_type": "stream",
     "text": [
      "[nltk_data] Downloading package punkt to\n",
      "[nltk_data]     C:\\Users\\Taps\\AppData\\Roaming\\nltk_data...\n",
      "[nltk_data]   Package punkt is already up-to-date!\n",
      "[nltk_data] Downloading package stopwords to\n",
      "[nltk_data]     C:\\Users\\Taps\\AppData\\Roaming\\nltk_data...\n",
      "[nltk_data]   Package stopwords is already up-to-date!\n"
     ]
    }
   ],
   "source": [
    "import pandas as pd\n",
    "import numpy as np\n",
    "import re\n",
    "import seaborn as sns\n",
    "import matplotlib.pyplot as plt\n",
    "\n",
    "import nltk\n",
    "nltk.download('punkt')\n",
    "nltk.download('stopwords')\n",
    "from nltk.corpus import stopwords\n",
    "from nltk.stem.porter import PorterStemmer\n",
    "from nltk.tokenize import word_tokenize\n",
    "\n",
    "from sklearn.naive_bayes import MultinomialNB\n",
    "from sklearn.linear_model import LogisticRegression\n",
    "from sklearn.pipeline import Pipeline\n",
    "from sklearn.feature_extraction.text import CountVectorizer\n",
    "from sklearn.metrics import confusion_matrix, classification_report"
   ]
  },
  {
   "cell_type": "markdown",
   "id": "279577da",
   "metadata": {},
   "source": [
    "# Data Import"
   ]
  },
  {
   "cell_type": "code",
   "execution_count": 193,
   "id": "9816c921",
   "metadata": {},
   "outputs": [],
   "source": [
    "price_vol = pd.read_csv(\"price_vol.csv\", index_col=[0])\n",
    "news_data = pd.read_csv(\"btc_eth.csv\", index_col=[0])"
   ]
  },
  {
   "cell_type": "code",
   "execution_count": 194,
   "id": "89f38dab",
   "metadata": {},
   "outputs": [],
   "source": [
    "btc_price = price_vol[['BTC-close']].shift(1)\n",
    "btc_news = news_data[['BTC']]"
   ]
  },
  {
   "cell_type": "code",
   "execution_count": 195,
   "id": "edeb0be5",
   "metadata": {},
   "outputs": [],
   "source": [
    "btc_price.index = pd.to_datetime(btc_price.index).tz_convert(None)\n",
    "btc_news.index = pd.to_datetime(btc_news.index)"
   ]
  },
  {
   "cell_type": "code",
   "execution_count": 196,
   "id": "c9018e43",
   "metadata": {},
   "outputs": [],
   "source": [
    "data = btc_news.merge(btc_price, how = 'inner', left_index=True, right_index=True)"
   ]
  },
  {
   "cell_type": "code",
   "execution_count": 197,
   "id": "d8c11856",
   "metadata": {},
   "outputs": [],
   "source": [
    "def joinStr(df):\n",
    "    lists = eval(df[0])\n",
    "    if(lists[1]):\n",
    "        return ' '.join(lists[1])\n",
    "    return np.nan"
   ]
  },
  {
   "cell_type": "code",
   "execution_count": 198,
   "id": "c789fcd4",
   "metadata": {},
   "outputs": [],
   "source": [
    "data['btc_summary'] = data.apply(lambda x : joinStr(x), axis=1)\n",
    "data['returns'] = data['BTC-close'].pct_change().shift(-1)\n",
    "data['class'] = data['returns'] > 0\n",
    "data = data.iloc[:-1, :]"
   ]
  },
  {
   "cell_type": "code",
   "execution_count": 200,
   "id": "a4b1d6ff",
   "metadata": {},
   "outputs": [],
   "source": [
    "nonewsdate = data[data.isna().any(axis = 1)].index"
   ]
  },
  {
   "cell_type": "code",
   "execution_count": 201,
   "id": "2e8c1e9b",
   "metadata": {},
   "outputs": [],
   "source": [
    "newsdate = data[~data.isna().any(axis = 1)].index"
   ]
  },
  {
   "cell_type": "code",
   "execution_count": 206,
   "id": "13f8ef1a",
   "metadata": {},
   "outputs": [],
   "source": [
    "train_data = data[~data.isna().any(axis = 1)][['btc_summary', 'class']]"
   ]
  },
  {
   "cell_type": "code",
   "execution_count": 208,
   "id": "02217742",
   "metadata": {},
   "outputs": [],
   "source": [
    "train_data.columns = ['text', 'class']"
   ]
  },
  {
   "cell_type": "code",
   "execution_count": 215,
   "id": "e4073ca0",
   "metadata": {},
   "outputs": [],
   "source": [
    "train_data1 = train_data.copy()"
   ]
  },
  {
   "cell_type": "markdown",
   "id": "ed84e1a0",
   "metadata": {},
   "source": [
    "# Data Processing"
   ]
  },
  {
   "cell_type": "code",
   "execution_count": 213,
   "id": "b4623565",
   "metadata": {},
   "outputs": [],
   "source": [
    "def dataProcess(df):\n",
    "    processed_data = []\n",
    "    for text, cls in zip(df['text'], df['class']):\n",
    "        doc = re.sub('[^A-Za-z]', ' ', text) # Remove non alphabetic characters\n",
    "        doc = word_tokenize(doc.lower()) # Transform to lower case and word tokenization\n",
    "        doc = [w for w in doc if w not in stopwords.words('english') ] # Remove stop words in English\n",
    "        stemmer = PorterStemmer() # Stemming words\n",
    "        doc = [stemmer.stem(w) for w in doc] # Stemming words\n",
    "        doc_string = \" \".join(doc) # Create string for CountVectorizer use in the future\n",
    "        processed_data.append(doc_string)\n",
    "        \n",
    "    df['text'] = processed_data    \n",
    "    "
   ]
  },
  {
   "cell_type": "code",
   "execution_count": 218,
   "id": "dca27aaf",
   "metadata": {},
   "outputs": [],
   "source": [
    "dataProcess(train_data1)"
   ]
  },
  {
   "cell_type": "code",
   "execution_count": 257,
   "id": "3e8bbeb1",
   "metadata": {},
   "outputs": [],
   "source": [
    "train_data1['class'] = train_data1['class'].map({True:'positive', False:'negative'})"
   ]
  },
  {
   "cell_type": "code",
   "execution_count": 259,
   "id": "f1b05937",
   "metadata": {},
   "outputs": [],
   "source": [
    "n = train_data1.shape[0]\n",
    "percent = 0.8\n",
    "X_train, X_test = train_data1.iloc[0 : int(n*percent), 0], train_data1.iloc[int(n*percent):, 0]\n",
    "y_train, y_test = train_data1.iloc[0 : int(n*percent), 1], train_data1.iloc[int(n*percent):, 1]"
   ]
  },
  {
   "cell_type": "code",
   "execution_count": 296,
   "id": "d4a45367",
   "metadata": {},
   "outputs": [],
   "source": [
    "backtest = train_data1.iloc[int(n*percent):, :]"
   ]
  },
  {
   "cell_type": "markdown",
   "id": "a468b4e0",
   "metadata": {},
   "source": [
    "# Model"
   ]
  },
  {
   "cell_type": "code",
   "execution_count": 285,
   "id": "7836d4f1",
   "metadata": {},
   "outputs": [],
   "source": [
    "# Limit the features to 500 so we only use the most frequent 500 words\n",
    "pipeline = Pipeline([('CountVectorizer', CountVectorizer(max_features=10000)), \n",
    "                     ('MNB', MultinomialNB())])"
   ]
  },
  {
   "cell_type": "code",
   "execution_count": 286,
   "id": "72f842aa",
   "metadata": {},
   "outputs": [],
   "source": [
    "pipeline.fit(X_train, y_train)\n",
    "y_pred_train = pipeline.predict(X_train)\n",
    "y_pred_test = pipeline.predict(X_test)"
   ]
  },
  {
   "cell_type": "markdown",
   "id": "45824bfb",
   "metadata": {},
   "source": [
    "## Train Data"
   ]
  },
  {
   "cell_type": "code",
   "execution_count": 287,
   "id": "1a7c4434",
   "metadata": {},
   "outputs": [
    {
     "data": {
      "image/png": "[encoded data removed]",
      "text/plain": [
       "<Figure size 432x432 with 2 Axes>"
      ]
     },
     "metadata": {
      "needs_background": "light"
     },
     "output_type": "display_data"
    }
   ],
   "source": [
    "cm_train = confusion_matrix(y_train, y_pred_train, labels=['positive', 'negative'])\n",
    "plt.figure(figsize = (6,6))\n",
    "s = sns.heatmap(cm_train, annot= True, fmt = 'd', annot_kws={'size': 16}, \n",
    "                cmap ='YlGnBu', xticklabels=['positive', 'negative'], yticklabels=['positive', 'negative'])\n",
    "_ = s.set_xlabel('Predicted')\n",
    "_ = s.set_ylabel('True')\n",
    "_ = s.set_title('Confusion Matrix of Train Set')"
   ]
  },
  {
   "cell_type": "code",
   "execution_count": 288,
   "id": "a4ff86c7",
   "metadata": {},
   "outputs": [
    {
     "name": "stdout",
     "output_type": "stream",
     "text": [
      "              precision    recall  f1-score   support\n",
      "\n",
      "    positive       0.84      0.87      0.85      1616\n",
      "    negative       0.86      0.83      0.84      1586\n",
      "\n",
      "    accuracy                           0.85      3202\n",
      "   macro avg       0.85      0.85      0.85      3202\n",
      "weighted avg       0.85      0.85      0.85      3202\n",
      "\n"
     ]
    }
   ],
   "source": [
    "print(classification_report(y_train, y_pred_train, labels = ['positive', 'negative']))"
   ]
  },
  {
   "cell_type": "markdown",
   "id": "fa41533d",
   "metadata": {},
   "source": [
    "## Test Data"
   ]
  },
  {
   "cell_type": "code",
   "execution_count": 289,
   "id": "0361719d",
   "metadata": {},
   "outputs": [
    {
     "data": {
      "image/png": "[encoded data removed]",
      "text/plain": [
       "<Figure size 432x432 with 2 Axes>"
      ]
     },
     "metadata": {
      "needs_background": "light"
     },
     "output_type": "display_data"
    }
   ],
   "source": [
    "cm_test = confusion_matrix(y_test, y_pred_test, labels = ['positive', 'negative'])\n",
    "plt.figure(figsize = (6,6))\n",
    "s = sns.heatmap(cm_test, annot= True, fmt = 'd', annot_kws={'size': 16}, \n",
    "                cmap ='YlGnBu', xticklabels=['positive', 'negative'], yticklabels=['positive', 'negative'])\n",
    "_ = s.set_xlabel('Predicted')\n",
    "_ = s.set_ylabel('True')\n",
    "_ = s.set_title('Confusion Matrix of Test Set')"
   ]
  },
  {
   "cell_type": "code",
   "execution_count": 290,
   "id": "e36153fc",
   "metadata": {},
   "outputs": [
    {
     "name": "stdout",
     "output_type": "stream",
     "text": [
      "              precision    recall  f1-score   support\n",
      "\n",
      "    positive       0.46      0.55      0.50       378\n",
      "    negative       0.52      0.43      0.47       423\n",
      "\n",
      "    accuracy                           0.49       801\n",
      "   macro avg       0.49      0.49      0.49       801\n",
      "weighted avg       0.49      0.49      0.49       801\n",
      "\n"
     ]
    }
   ],
   "source": [
    "print(classification_report(y_test, y_pred_test, labels = ['positive', 'negative']))"
   ]
  },
  {
   "cell_type": "code",
   "execution_count": 291,
   "id": "f0345c0c",
   "metadata": {},
   "outputs": [
    {
     "data": {
      "text/plain": [
       "array(['positive', 'positive', 'negative', 'positive', 'positive',\n",
       "       'negative', 'positive', 'positive', 'negative', 'positive',\n",
       "       'positive', 'negative', 'positive', 'positive', 'negative',\n",
       "       'positive', 'positive', 'positive', 'negative', 'positive',\n",
       "       'positive', 'positive', 'negative', 'positive', 'negative',\n",
       "       'negative', 'positive', 'positive', 'negative', 'negative',\n",
       "       'positive', 'positive', 'negative', 'negative', 'negative',\n",
       "       'positive', 'negative', 'positive', 'positive', 'positive',\n",
       "       'positive', 'positive', 'positive', 'negative', 'negative',\n",
       "       'positive', 'positive', 'negative', 'positive', 'negative',\n",
       "       'positive', 'negative', 'negative', 'positive', 'negative',\n",
       "       'positive', 'negative', 'positive', 'positive', 'negative',\n",
       "       'negative', 'negative', 'positive', 'negative', 'negative',\n",
       "       'negative', 'positive', 'positive', 'negative', 'positive',\n",
       "       'positive', 'positive', 'positive', 'positive', 'negative',\n",
       "       'negative', 'negative', 'positive', 'positive', 'positive',\n",
       "       'negative', 'positive', 'positive', 'positive', 'positive',\n",
       "       'negative', 'positive', 'negative', 'positive', 'positive',\n",
       "       'positive', 'negative', 'negative', 'positive', 'positive',\n",
       "       'negative', 'positive', 'negative', 'negative', 'negative',\n",
       "       'negative', 'negative', 'positive', 'negative', 'negative',\n",
       "       'positive', 'positive', 'negative', 'negative', 'negative',\n",
       "       'negative', 'negative', 'negative', 'positive', 'negative',\n",
       "       'positive', 'negative', 'positive', 'positive', 'positive',\n",
       "       'negative', 'negative', 'positive', 'negative', 'negative',\n",
       "       'negative', 'negative', 'negative', 'positive', 'positive',\n",
       "       'negative', 'positive', 'positive', 'positive', 'negative',\n",
       "       'positive', 'positive', 'positive', 'positive', 'negative',\n",
       "       'positive', 'negative', 'positive', 'negative', 'negative',\n",
       "       'positive', 'negative', 'positive', 'positive', 'negative',\n",
       "       'negative', 'negative', 'positive', 'negative', 'negative',\n",
       "       'positive', 'negative', 'positive', 'negative', 'positive',\n",
       "       'positive', 'positive', 'negative', 'positive', 'negative',\n",
       "       'positive', 'negative', 'negative', 'negative', 'negative',\n",
       "       'positive', 'negative', 'negative', 'negative', 'negative',\n",
       "       'negative', 'positive', 'negative', 'positive', 'positive',\n",
       "       'negative', 'negative', 'negative', 'positive', 'positive',\n",
       "       'positive', 'positive', 'positive', 'negative', 'positive',\n",
       "       'positive', 'positive', 'positive', 'negative', 'negative',\n",
       "       'negative', 'negative', 'negative', 'negative', 'positive',\n",
       "       'negative', 'negative', 'positive', 'positive', 'negative',\n",
       "       'negative', 'negative', 'positive', 'negative', 'negative',\n",
       "       'negative', 'positive', 'positive', 'negative', 'positive',\n",
       "       'positive', 'positive', 'negative', 'positive', 'negative',\n",
       "       'negative', 'positive', 'positive', 'negative', 'positive',\n",
       "       'positive', 'negative', 'negative', 'negative', 'negative',\n",
       "       'negative', 'negative', 'positive', 'negative', 'negative',\n",
       "       'negative', 'positive', 'positive', 'negative', 'negative',\n",
       "       'negative', 'positive', 'negative', 'positive', 'negative',\n",
       "       'positive', 'negative', 'negative', 'negative', 'positive',\n",
       "       'positive', 'negative', 'positive', 'positive', 'negative',\n",
       "       'negative', 'negative', 'positive', 'negative', 'positive',\n",
       "       'negative', 'positive', 'negative', 'negative', 'negative',\n",
       "       'positive', 'negative', 'positive', 'positive', 'positive',\n",
       "       'positive', 'positive', 'negative', 'negative', 'positive',\n",
       "       'positive', 'negative', 'negative', 'positive', 'positive',\n",
       "       'positive', 'negative', 'positive', 'negative', 'positive',\n",
       "       'negative', 'positive', 'positive', 'positive', 'positive',\n",
       "       'positive', 'positive', 'positive', 'positive', 'negative',\n",
       "       'positive', 'positive', 'positive', 'negative', 'positive',\n",
       "       'negative', 'positive', 'negative', 'negative', 'negative',\n",
       "       'positive', 'negative', 'negative', 'positive', 'negative',\n",
       "       'positive', 'positive', 'negative', 'positive', 'negative',\n",
       "       'positive', 'negative', 'positive', 'positive', 'negative',\n",
       "       'negative', 'negative', 'positive', 'negative', 'positive',\n",
       "       'negative', 'negative', 'negative', 'positive', 'negative',\n",
       "       'negative', 'negative', 'negative', 'negative', 'positive',\n",
       "       'negative', 'positive', 'negative', 'positive', 'positive',\n",
       "       'negative', 'positive', 'positive', 'positive', 'negative',\n",
       "       'positive', 'negative', 'positive', 'positive', 'negative',\n",
       "       'positive', 'positive', 'negative', 'positive', 'positive',\n",
       "       'negative', 'positive', 'positive', 'positive', 'positive',\n",
       "       'positive', 'positive', 'positive', 'positive', 'positive',\n",
       "       'positive', 'positive', 'negative', 'positive', 'negative',\n",
       "       'negative', 'positive', 'positive', 'negative', 'positive',\n",
       "       'positive', 'negative', 'positive', 'negative', 'positive',\n",
       "       'positive', 'positive', 'positive', 'positive', 'positive',\n",
       "       'negative', 'negative', 'positive', 'negative', 'positive',\n",
       "       'negative', 'negative', 'negative', 'negative', 'positive',\n",
       "       'positive', 'negative', 'positive', 'positive', 'positive',\n",
       "       'positive', 'positive', 'positive', 'negative', 'negative',\n",
       "       'negative', 'positive', 'negative', 'positive', 'negative',\n",
       "       'positive', 'negative', 'negative', 'negative', 'positive',\n",
       "       'negative', 'negative', 'positive', 'positive', 'positive',\n",
       "       'negative', 'positive', 'positive', 'positive', 'positive',\n",
       "       'negative', 'negative', 'positive', 'positive', 'positive',\n",
       "       'positive', 'negative', 'negative', 'positive', 'positive',\n",
       "       'negative', 'positive', 'negative', 'positive', 'positive',\n",
       "       'positive', 'positive', 'positive', 'positive', 'negative',\n",
       "       'positive', 'positive', 'positive', 'positive', 'positive',\n",
       "       'negative', 'negative', 'negative', 'negative', 'positive',\n",
       "       'negative', 'negative', 'negative', 'positive', 'negative',\n",
       "       'positive', 'positive', 'positive', 'negative', 'positive',\n",
       "       'positive', 'positive', 'positive', 'positive', 'positive',\n",
       "       'positive', 'negative', 'negative', 'negative', 'positive',\n",
       "       'negative', 'negative', 'positive', 'negative', 'negative',\n",
       "       'positive', 'negative', 'positive', 'positive', 'positive',\n",
       "       'negative', 'positive', 'positive', 'positive', 'positive',\n",
       "       'positive', 'positive', 'negative', 'negative', 'positive',\n",
       "       'negative', 'negative', 'negative', 'positive', 'positive',\n",
       "       'positive', 'positive', 'negative', 'negative', 'negative',\n",
       "       'positive', 'negative', 'positive', 'positive', 'negative',\n",
       "       'negative', 'positive', 'negative', 'negative', 'negative',\n",
       "       'positive', 'negative', 'negative', 'negative', 'positive',\n",
       "       'negative', 'positive', 'positive', 'positive', 'positive',\n",
       "       'positive', 'positive', 'positive', 'positive', 'positive',\n",
       "       'negative', 'positive', 'positive', 'positive', 'positive',\n",
       "       'positive', 'positive', 'positive', 'positive', 'negative',\n",
       "       'negative', 'negative', 'positive', 'positive', 'positive',\n",
       "       'negative', 'positive', 'positive', 'positive', 'negative',\n",
       "       'positive', 'negative', 'negative', 'positive', 'positive',\n",
       "       'positive', 'positive', 'positive', 'positive', 'positive',\n",
       "       'positive', 'positive', 'negative', 'negative', 'positive',\n",
       "       'negative', 'positive', 'negative', 'positive', 'negative',\n",
       "       'positive', 'positive', 'positive', 'negative', 'negative',\n",
       "       'positive', 'positive', 'negative', 'negative', 'positive',\n",
       "       'positive', 'positive', 'positive', 'negative', 'negative',\n",
       "       'negative', 'negative', 'positive', 'negative', 'positive',\n",
       "       'positive', 'negative', 'negative', 'negative', 'positive',\n",
       "       'negative', 'negative', 'positive', 'positive', 'negative',\n",
       "       'positive', 'positive', 'positive', 'negative', 'negative',\n",
       "       'positive', 'positive', 'negative', 'negative', 'positive',\n",
       "       'positive', 'positive', 'positive', 'positive', 'negative',\n",
       "       'positive', 'positive', 'negative', 'positive', 'positive',\n",
       "       'positive', 'positive', 'negative', 'positive', 'positive',\n",
       "       'negative', 'positive', 'negative', 'positive', 'positive',\n",
       "       'positive', 'negative', 'negative', 'positive', 'negative',\n",
       "       'positive', 'positive', 'positive', 'positive', 'positive',\n",
       "       'negative', 'positive', 'negative', 'positive', 'negative',\n",
       "       'negative', 'positive', 'positive', 'positive', 'negative',\n",
       "       'negative', 'negative', 'positive', 'negative', 'negative',\n",
       "       'positive', 'negative', 'positive', 'positive', 'negative',\n",
       "       'positive', 'positive', 'positive', 'positive', 'negative',\n",
       "       'negative', 'negative', 'positive', 'positive', 'positive',\n",
       "       'positive', 'negative', 'positive', 'positive', 'positive',\n",
       "       'positive', 'negative', 'positive', 'positive', 'positive',\n",
       "       'negative', 'negative', 'negative', 'negative', 'positive',\n",
       "       'positive', 'positive', 'positive', 'negative', 'negative',\n",
       "       'positive', 'negative', 'negative', 'positive', 'negative',\n",
       "       'negative', 'negative', 'positive', 'positive', 'positive',\n",
       "       'positive', 'negative', 'positive', 'positive', 'positive',\n",
       "       'positive', 'positive', 'negative', 'positive', 'negative',\n",
       "       'positive', 'positive', 'positive', 'positive', 'positive',\n",
       "       'negative', 'negative', 'positive', 'negative', 'negative',\n",
       "       'positive', 'negative', 'negative', 'positive', 'positive',\n",
       "       'negative', 'negative', 'negative', 'negative', 'positive',\n",
       "       'positive', 'positive', 'negative', 'positive', 'positive',\n",
       "       'positive', 'positive', 'negative', 'positive', 'positive',\n",
       "       'positive', 'positive', 'positive', 'negative', 'positive',\n",
       "       'negative', 'negative', 'positive', 'negative', 'negative',\n",
       "       'positive', 'negative', 'positive', 'negative', 'positive',\n",
       "       'positive', 'negative', 'positive', 'positive', 'positive',\n",
       "       'negative', 'negative', 'negative', 'negative', 'positive',\n",
       "       'positive', 'positive', 'negative', 'positive', 'negative',\n",
       "       'negative', 'positive', 'positive', 'positive', 'positive',\n",
       "       'positive', 'positive', 'negative', 'negative', 'negative',\n",
       "       'positive', 'positive', 'negative', 'positive', 'positive',\n",
       "       'negative', 'positive', 'negative', 'negative', 'negative',\n",
       "       'positive', 'positive', 'positive', 'negative', 'negative',\n",
       "       'positive', 'positive', 'positive', 'positive', 'negative',\n",
       "       'negative'], dtype='<U8')"
      ]
     },
     "execution_count": 291,
     "metadata": {},
     "output_type": "execute_result"
    }
   ],
   "source": [
    "y_pred_test"
   ]
  },
  {
   "cell_type": "markdown",
   "id": "cdf47385",
   "metadata": {},
   "source": [
    "# Simple Backtest\n",
    "May exist slight looking-ahead bias"
   ]
  },
  {
   "cell_type": "code",
   "execution_count": 298,
   "id": "3886813e",
   "metadata": {},
   "outputs": [
    {
     "name": "stderr",
     "output_type": "stream",
     "text": [
      "C:\\Users\\Taps\\AppData\\Local\\Temp\\ipykernel_6224\\4123435539.py:1: SettingWithCopyWarning: \n",
      "A value is trying to be set on a copy of a slice from a DataFrame.\n",
      "Try using .loc[row_indexer,col_indexer] = value instead\n",
      "\n",
      "See the caveats in the documentation: https://pandas.pydata.org/pandas-docs/stable/user_guide/indexing.html#returning-a-view-versus-a-copy\n",
      "  backtest['signal'] = y_pred_test\n"
     ]
    }
   ],
   "source": [
    "backtest['signal'] = y_pred_test"
   ]
  },
  {
   "cell_type": "code",
   "execution_count": 313,
   "id": "2cccfaee",
   "metadata": {},
   "outputs": [
    {
     "data": {
      "text/html": [
       "<div>\n",
       "<style scoped>\n",
       "    .dataframe tbody tr th:only-of-type {\n",
       "        vertical-align: middle;\n",
       "    }\n",
       "\n",
       "    .dataframe tbody tr th {\n",
       "        vertical-align: top;\n",
       "    }\n",
       "\n",
       "    .dataframe thead th {\n",
       "        text-align: right;\n",
       "    }\n",
       "</style>\n",
       "<table border=\"1\" class=\"dataframe\">\n",
       "  <thead>\n",
       "    <tr style=\"text-align: right;\">\n",
       "      <th></th>\n",
       "      <th>text</th>\n",
       "      <th>class</th>\n",
       "      <th>signal</th>\n",
       "    </tr>\n",
       "  </thead>\n",
       "  <tbody>\n",
       "    <tr>\n",
       "      <th>2022-08-13 06:00:00</th>\n",
       "      <td>sinc juli bitcoin ecosystem recov across numer...</td>\n",
       "      <td>negative</td>\n",
       "      <td>positive</td>\n",
       "    </tr>\n",
       "    <tr>\n",
       "      <th>2022-08-13 08:00:00</th>\n",
       "      <td>financi implic btc dip high financi express</td>\n",
       "      <td>negative</td>\n",
       "      <td>positive</td>\n",
       "    </tr>\n",
       "    <tr>\n",
       "      <th>2022-08-13 09:00:00</th>\n",
       "      <td>back layer blockchain proven incred success be...</td>\n",
       "      <td>positive</td>\n",
       "      <td>negative</td>\n",
       "    </tr>\n",
       "    <tr>\n",
       "      <th>2022-08-13 10:00:00</th>\n",
       "      <td>increas revenu seen across bitcoin mine indust...</td>\n",
       "      <td>negative</td>\n",
       "      <td>positive</td>\n",
       "    </tr>\n",
       "    <tr>\n",
       "      <th>2022-08-13 11:00:00</th>\n",
       "      <td>nft space heat amid flurri posit develop ether...</td>\n",
       "      <td>negative</td>\n",
       "      <td>positive</td>\n",
       "    </tr>\n",
       "    <tr>\n",
       "      <th>...</th>\n",
       "      <td>...</td>\n",
       "      <td>...</td>\n",
       "      <td>...</td>\n",
       "    </tr>\n",
       "    <tr>\n",
       "      <th>2022-09-24 13:00:00</th>\n",
       "      <td>fintech giant still face trio near term challe...</td>\n",
       "      <td>negative</td>\n",
       "      <td>positive</td>\n",
       "    </tr>\n",
       "    <tr>\n",
       "      <th>2022-09-24 14:00:00</th>\n",
       "      <td>fintech giant still face trio near term challe...</td>\n",
       "      <td>negative</td>\n",
       "      <td>positive</td>\n",
       "    </tr>\n",
       "    <tr>\n",
       "      <th>2022-09-24 15:00:00</th>\n",
       "      <td>look like wall street journal coinbas global i...</td>\n",
       "      <td>negative</td>\n",
       "      <td>positive</td>\n",
       "    </tr>\n",
       "    <tr>\n",
       "      <th>2022-09-24 16:00:00</th>\n",
       "      <td>dogecoin doge usd shiba inu shib usd popular s...</td>\n",
       "      <td>positive</td>\n",
       "      <td>negative</td>\n",
       "    </tr>\n",
       "    <tr>\n",
       "      <th>2022-09-24 18:00:00</th>\n",
       "      <td>institut interest grayscal bitcoin trust conti...</td>\n",
       "      <td>positive</td>\n",
       "      <td>negative</td>\n",
       "    </tr>\n",
       "  </tbody>\n",
       "</table>\n",
       "<p>801 rows × 3 columns</p>\n",
       "</div>"
      ],
      "text/plain": [
       "                                                                  text  \\\n",
       "2022-08-13 06:00:00  sinc juli bitcoin ecosystem recov across numer...   \n",
       "2022-08-13 08:00:00        financi implic btc dip high financi express   \n",
       "2022-08-13 09:00:00  back layer blockchain proven incred success be...   \n",
       "2022-08-13 10:00:00  increas revenu seen across bitcoin mine indust...   \n",
       "2022-08-13 11:00:00  nft space heat amid flurri posit develop ether...   \n",
       "...                                                                ...   \n",
       "2022-09-24 13:00:00  fintech giant still face trio near term challe...   \n",
       "2022-09-24 14:00:00  fintech giant still face trio near term challe...   \n",
       "2022-09-24 15:00:00  look like wall street journal coinbas global i...   \n",
       "2022-09-24 16:00:00  dogecoin doge usd shiba inu shib usd popular s...   \n",
       "2022-09-24 18:00:00  institut interest grayscal bitcoin trust conti...   \n",
       "\n",
       "                        class    signal  \n",
       "2022-08-13 06:00:00  negative  positive  \n",
       "2022-08-13 08:00:00  negative  positive  \n",
       "2022-08-13 09:00:00  positive  negative  \n",
       "2022-08-13 10:00:00  negative  positive  \n",
       "2022-08-13 11:00:00  negative  positive  \n",
       "...                       ...       ...  \n",
       "2022-09-24 13:00:00  negative  positive  \n",
       "2022-09-24 14:00:00  negative  positive  \n",
       "2022-09-24 15:00:00  negative  positive  \n",
       "2022-09-24 16:00:00  positive  negative  \n",
       "2022-09-24 18:00:00  positive  negative  \n",
       "\n",
       "[801 rows x 3 columns]"
      ]
     },
     "execution_count": 313,
     "metadata": {},
     "output_type": "execute_result"
    }
   ],
   "source": [
    "backtest"
   ]
  },
  {
   "cell_type": "code",
   "execution_count": 300,
   "id": "bef06f52",
   "metadata": {},
   "outputs": [],
   "source": [
    "backtest_start_date = backtest.index[0]"
   ]
  },
  {
   "cell_type": "code",
   "execution_count": 311,
   "id": "817656b1",
   "metadata": {},
   "outputs": [],
   "source": [
    "allBacktest = data[data.index >= backtest_start_date][['returns']]"
   ]
  },
  {
   "cell_type": "code",
   "execution_count": 316,
   "id": "8d6616f1",
   "metadata": {},
   "outputs": [],
   "source": [
    "backtestTable = allBacktest.merge(backtest[['signal']], how = 'left', left_index=True, right_index=True)"
   ]
  },
  {
   "cell_type": "code",
   "execution_count": 322,
   "id": "b3defcf3",
   "metadata": {},
   "outputs": [],
   "source": [
    "backtestTable = backtestTable.fillna(method = 'ffill')"
   ]
  },
  {
   "cell_type": "code",
   "execution_count": 325,
   "id": "88f6ea8d",
   "metadata": {},
   "outputs": [],
   "source": [
    "def simpleBacktest(df):\n",
    "    if(df[1] == 'positive'):\n",
    "        return df[0]\n",
    "    return 0.0"
   ]
  },
  {
   "cell_type": "code",
   "execution_count": 326,
   "id": "62019c6c",
   "metadata": {},
   "outputs": [],
   "source": [
    "backtestTable['realized_returns'] = backtestTable.apply(lambda x: simpleBacktest(x), axis = 1)"
   ]
  },
  {
   "cell_type": "code",
   "execution_count": 336,
   "id": "1a37268b",
   "metadata": {},
   "outputs": [],
   "source": [
    "backtestTable['strategy_networth'] = (1 + backtestTable['realized_returns']).cumprod()\n",
    "backtestTable['buy_and_hold'] = (1 + backtestTable['returns']).cumprod()"
   ]
  },
  {
   "cell_type": "code",
   "execution_count": 371,
   "id": "796a2c1e",
   "metadata": {},
   "outputs": [
    {
     "data": {
      "image/png": "[encoded data removed]",
      "text/plain": [
       "<Figure size 864x576 with 1 Axes>"
      ]
     },
     "metadata": {
      "needs_background": "light"
     },
     "output_type": "display_data"
    }
   ],
   "source": [
    "_ = backtestTable[['strategy_networth', 'buy_and_hold']].plot(figsize = (12, 8), title = \"strategy VS buy_and_hold\")"
   ]
  },
  {
   "cell_type": "code",
   "execution_count": 355,
   "id": "9a882fbf",
   "metadata": {},
   "outputs": [],
   "source": [
    "class backtestMetrics:\n",
    "    \n",
    "    def __init__(self, df):\n",
    "        self.df = df\n",
    "        self.df_dailyreturn = (df - df.shift(1))/df.shift(1)\n",
    "        self.N = len(df) - 1\n",
    "        \n",
    "    def get_return(self):\n",
    "        return (np.power(self.df.iloc[-1,:]/self.df.iloc[0,:],365*24/self.N) - 1)[0]\n",
    "    \n",
    "    def get_vol(self):\n",
    "        return (np.std(self.df_dailyreturn)*np.sqrt(365*24))[0]\n",
    "    \n",
    "    def get_sharpe(self):\n",
    "        return (self.get_return()/self.get_vol())\n",
    "    \n",
    "    def get_cumReturn(self):\n",
    "        return (self.df.iloc[-1,:]/self.df.iloc[0,:] - 1)[0]\n",
    "    \n",
    "    def get_maxdd(self):\n",
    "        return ((np.maximum.accumulate(self.df) - self.df)/np.maximum.accumulate(self.df)).max()[0]"
   ]
  },
  {
   "cell_type": "code",
   "execution_count": 372,
   "id": "3dba5758",
   "metadata": {},
   "outputs": [
    {
     "name": "stdout",
     "output_type": "stream",
     "text": [
      "Simple Strategy\n",
      "Annual Return : -0.6089937251268687\n",
      "Annual Vol : 0.3676714318397354\n",
      "Annual Sharpe : -1.656353125070439\n",
      "Annual Cumulative Return : -0.10405413030762878\n",
      "Annual Max DD : 0.11960514002303518\n"
     ]
    }
   ],
   "source": [
    "print(\"Simple Strategy\")\n",
    "strategyMetrics = backtestMetrics(backtestTable[['strategy_networth']])\n",
    "print(\"Annual Return : {}\".format(strategyMetrics.get_return()))\n",
    "print(\"Annual Vol : {}\".format(strategyMetrics.get_vol()))\n",
    "print(\"Annual Sharpe : {}\".format(strategyMetrics.get_sharpe()))\n",
    "print(\"Annual Cumulative Return : {}\".format(strategyMetrics.get_cumReturn()))\n",
    "print(\"Annual Max DD : {}\".format(strategyMetrics.get_maxdd()))"
   ]
  },
  {
   "cell_type": "code",
   "execution_count": 373,
   "id": "10b6db4d",
   "metadata": {},
   "outputs": [
    {
     "name": "stdout",
     "output_type": "stream",
     "text": [
      "Buy and Hold\n",
      "Annual Return : -0.8959899714650155\n",
      "Annual Vol : 0.5262643802987188\n",
      "Annual Sharpe : -1.702547246227139\n",
      "Annual Cumulative Return : -0.23265825789707006\n",
      "Annual Max DD : 0.2599409318973026\n"
     ]
    }
   ],
   "source": [
    "print(\"Buy and Hold\")\n",
    "strategyMetrics = backtestMetrics(backtestTable[['buy_and_hold']])\n",
    "print(\"Annual Return : {}\".format(strategyMetrics.get_return()))\n",
    "print(\"Annual Vol : {}\".format(strategyMetrics.get_vol()))\n",
    "print(\"Annual Sharpe : {}\".format(strategyMetrics.get_sharpe()))\n",
    "print(\"Annual Cumulative Return : {}\".format(strategyMetrics.get_cumReturn()))\n",
    "print(\"Annual Max DD : {}\".format(strategyMetrics.get_maxdd()))"
   ]
  },
  {
   "cell_type": "code",
   "execution_count": null,
   "id": "532b5433",
   "metadata": {},
   "outputs": [],
   "source": []
  }
 ],
 "metadata": {
  "kernelspec": {
   "display_name": "Python 3 (ipykernel)",
   "language": "python",
   "name": "python3"
  },
  "language_info": {
   "codemirror_mode": {
    "name": "ipython",
    "version": 3
   },
   "file_extension": ".py",
   "mimetype": "text/x-python",
   "name": "python",
   "nbconvert_exporter": "python",
   "pygments_lexer": "ipython3",
   "version": "3.8.8"
  },
  "toc": {
   "base_numbering": 1,
   "nav_menu": {},
   "number_sections": true,
   "sideBar": true,
   "skip_h1_title": false,
   "title_cell": "Table of Contents",
   "title_sidebar": "Contents",
   "toc_cell": false,
   "toc_position": {},
   "toc_section_display": true,
   "toc_window_display": false
  }
 },
 "nbformat": 4,
 "nbformat_minor": 5
}

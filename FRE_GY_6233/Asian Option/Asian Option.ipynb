{
 "cells": [
  {
   "cell_type": "code",
   "execution_count": 1,
   "id": "d1608d4b",
   "metadata": {},
   "outputs": [],
   "source": [
    "import numpy as np\n",
    "import pandas as pd\n",
    "from scipy import stats\n",
    "import matplotlib.pyplot as plt"
   ]
  },
  {
   "cell_type": "code",
   "execution_count": 2,
   "id": "594e91e0",
   "metadata": {},
   "outputs": [],
   "source": [
    "class AsianOption:\n",
    "    \n",
    "    def __init__(self, m, r, S0, K, sigma, T):\n",
    "        \"\"\"\n",
    "        \n",
    "        :param m: int; number of stock price path\n",
    "        :param r: float; risk neutral interest rate\n",
    "        :param S0: float; current stock price\n",
    "        :param K: float; strike price at expiration\n",
    "        :param T: float; expiration time (year)\n",
    "        :param num_paths: int; number of stock price paths\n",
    "        :return: price of Asian Option using regular monte carlo simulation\n",
    "        \"\"\"\n",
    "        # parameter initialization\n",
    "        self.m = m\n",
    "        self.r = r\n",
    "        self.S0 = S0\n",
    "        self.K = K\n",
    "        self.sigma = sigma\n",
    "        self.T = T\n",
    "        \n",
    "        # asian option price using analytical formula\n",
    "        T_bar = 0.5 * (m + 1) * T / m\n",
    "        sigma_bar = sigma * np.sqrt((2 * m + 1) / (3 * m))\n",
    "        delta = (1 / 6) * sigma ** 2 * (m - 1) / m\n",
    "        d = (np.log(S0 / K) + (r - delta + 0.5 * sigma_bar ** 2) * T_bar) / (sigma_bar * np.sqrt(T_bar))\n",
    "        self.analytical_geom_price = np.exp(-delta * T_bar - r * (T - T_bar)) * S0 * stats.norm.cdf(d) - \\\n",
    "                K * np.exp(-r * T) * stats.norm.cdf(d - sigma_bar * np.sqrt(T_bar))\n",
    "        \n",
    "    def monte_carlo(self, num_paths, alpha=0.05):\n",
    "        \"\"\"\n",
    "        asian option pricing using regular monte carlo method and control variate method\n",
    "        :param num_paths: int; number of paths for stock prices\n",
    "        :return : \n",
    "        \"\"\"\n",
    "        # generate standard normal variables\n",
    "        Z = np.random.normal(0, 1, size=(num_paths, self.m))\n",
    "\n",
    "        # calculate paths for stock prices\n",
    "        stock_prices = self.S0 * np.exp(np.cumsum((self.r - 0.5 * self.sigma ** 2) * self.T / self.m + \n",
    "                                        self.sigma * np.sqrt(self.T / self.m) * Z, axis=1))\n",
    "        \n",
    "        # price of asian options with arithmatic and geometric payoff\n",
    "        arith_paths = np.exp(-self.r * self.T) * np.maximum(stock_prices.mean(axis=1) - self.K, 0)\n",
    "        geom_paths = np.exp(-self.r * self.T) * np.maximum(stats.gmean(stock_prices, axis=1) - self.K, 0)\n",
    "        \n",
    "        # covariance of geometric and arithmetic average price\n",
    "        cov_matrix = np.cov(arith_paths, geom_paths, bias=False)\n",
    "        \n",
    "        # regular monte carlo method\n",
    "        arith_price = np.mean(arith_paths)\n",
    "        arith_std = cov_matrix[0][0]**0.5\n",
    "        arith_sse = stats.norm.ppf(1 - alpha / 2) * arith_std / np.sqrt(num_paths)\n",
    "        \n",
    "        # control variate method\n",
    "        geom_std = cov_matrix[1][1]**0.5\n",
    "        corr_rho = cov_matrix[0][1] / (arith_std * geom_std)  # correlation coefficient for speedup\n",
    "        speedup_factor = 1 / (1 - corr_rho ** 2)\n",
    "        b_star = corr_rho * arith_std / geom_std\n",
    "        covar_paths = arith_paths - b_star * (geom_paths - self.analytical_geom_price)\n",
    "        covar_price = np.mean(covar_paths)\n",
    "        covar_std = np.std(covar_paths)\n",
    "        covar_sse = stats.norm.ppf(1 - alpha / 2) * covar_std / np.sqrt(num_paths)\n",
    "        \n",
    "        return arith_price, arith_price + arith_sse, arith_price - arith_sse, \\\n",
    "                covar_price, covar_price + covar_sse, covar_price - covar_sse, corr_rho, speedup_factor\n",
    "    "
   ]
  },
  {
   "cell_type": "code",
   "execution_count": 6,
   "id": "a8bc8089",
   "metadata": {},
   "outputs": [
    {
     "name": "stdout",
     "output_type": "stream",
     "text": [
      "analytical geometric price from BSFormula: 13.405754003897925.\n"
     ]
    }
   ],
   "source": [
    "# instantize the AsianOption class\n",
    "asian_option = AsianOption(r=0.01, sigma=0.3, K=100, S0=110, T=1, m=12)\n",
    "print(f\"analytical geometric price from BSFormula: {asian_option.analytical_geom_price}.\")"
   ]
  },
  {
   "cell_type": "code",
   "execution_count": 4,
   "id": "d21874e8",
   "metadata": {
    "scrolled": true
   },
   "outputs": [
    {
     "data": {
      "text/html": [
       "<div>\n",
       "<style scoped>\n",
       "    .dataframe tbody tr th:only-of-type {\n",
       "        vertical-align: middle;\n",
       "    }\n",
       "\n",
       "    .dataframe tbody tr th {\n",
       "        vertical-align: top;\n",
       "    }\n",
       "\n",
       "    .dataframe thead th {\n",
       "        text-align: right;\n",
       "    }\n",
       "</style>\n",
       "<table border=\"1\" class=\"dataframe\">\n",
       "  <thead>\n",
       "    <tr style=\"text-align: right;\">\n",
       "      <th></th>\n",
       "      <th>point_estimator_regular_mc</th>\n",
       "      <th>upper_bound_regular_mc</th>\n",
       "      <th>lower_bound_regular_mc</th>\n",
       "      <th>point_estimator_control_variate</th>\n",
       "      <th>upper_bound_control_variate</th>\n",
       "      <th>lower_bound_control_variate</th>\n",
       "      <th>correlation_coefficient</th>\n",
       "      <th>variate_reduction_factor</th>\n",
       "    </tr>\n",
       "  </thead>\n",
       "  <tbody>\n",
       "    <tr>\n",
       "      <th>1000</th>\n",
       "      <td>14.266324</td>\n",
       "      <td>15.289494</td>\n",
       "      <td>13.243153</td>\n",
       "      <td>13.930081</td>\n",
       "      <td>13.961570</td>\n",
       "      <td>13.898591</td>\n",
       "      <td>0.999526</td>\n",
       "      <td>1054.720468</td>\n",
       "    </tr>\n",
       "    <tr>\n",
       "      <th>10000</th>\n",
       "      <td>13.908704</td>\n",
       "      <td>14.232503</td>\n",
       "      <td>13.584905</td>\n",
       "      <td>13.951931</td>\n",
       "      <td>13.963340</td>\n",
       "      <td>13.940521</td>\n",
       "      <td>0.999379</td>\n",
       "      <td>805.313331</td>\n",
       "    </tr>\n",
       "    <tr>\n",
       "      <th>100000</th>\n",
       "      <td>14.031630</td>\n",
       "      <td>14.134833</td>\n",
       "      <td>13.928427</td>\n",
       "      <td>13.953729</td>\n",
       "      <td>13.957407</td>\n",
       "      <td>13.950051</td>\n",
       "      <td>0.999365</td>\n",
       "      <td>787.365119</td>\n",
       "    </tr>\n",
       "    <tr>\n",
       "      <th>1000000</th>\n",
       "      <td>13.957862</td>\n",
       "      <td>13.990378</td>\n",
       "      <td>13.925347</td>\n",
       "      <td>13.950690</td>\n",
       "      <td>13.951849</td>\n",
       "      <td>13.949531</td>\n",
       "      <td>0.999365</td>\n",
       "      <td>787.167537</td>\n",
       "    </tr>\n",
       "  </tbody>\n",
       "</table>\n",
       "</div>"
      ],
      "text/plain": [
       "         point_estimator_regular_mc  upper_bound_regular_mc  \\\n",
       "1000                      14.266324               15.289494   \n",
       "10000                     13.908704               14.232503   \n",
       "100000                    14.031630               14.134833   \n",
       "1000000                   13.957862               13.990378   \n",
       "\n",
       "         lower_bound_regular_mc  point_estimator_control_variate  \\\n",
       "1000                  13.243153                        13.930081   \n",
       "10000                 13.584905                        13.951931   \n",
       "100000                13.928427                        13.953729   \n",
       "1000000               13.925347                        13.950690   \n",
       "\n",
       "         upper_bound_control_variate  lower_bound_control_variate  \\\n",
       "1000                       13.961570                    13.898591   \n",
       "10000                      13.963340                    13.940521   \n",
       "100000                     13.957407                    13.950051   \n",
       "1000000                    13.951849                    13.949531   \n",
       "\n",
       "         correlation_coefficient  variate_reduction_factor  \n",
       "1000                    0.999526               1054.720468  \n",
       "10000                   0.999379                805.313331  \n",
       "100000                  0.999365                787.365119  \n",
       "1000000                 0.999365                787.167537  "
      ]
     },
     "execution_count": 4,
     "metadata": {},
     "output_type": "execute_result"
    }
   ],
   "source": [
    "summary = pd.DataFrame({trial: asian_option.monte_carlo(trial) for trial in np.power(10, [3, 4, 5, 6])}).T\n",
    "summary.columns = [\"point_estimator_regular_mc\", \"upper_bound_regular_mc\", \"lower_bound_regular_mc\", \n",
    "                  \"point_estimator_control_variate\", \"upper_bound_control_variate\", \"lower_bound_control_variate\", \n",
    "                  \"correlation_coefficient\", \"variate_reduction_factor\"]\n",
    "summary"
   ]
  },
  {
   "cell_type": "markdown",
   "id": "05e71f60",
   "metadata": {},
   "source": [
    "### From the last two columns of the table above we can see that the larger the correlation coefficient the higher the speed-up effectiveness."
   ]
  },
  {
   "cell_type": "code",
   "execution_count": 5,
   "id": "bde6e3d4",
   "metadata": {},
   "outputs": [
    {
     "data": {
      "image/png": "[encoded data removed]",
      "text/plain": [
       "<Figure size 576x432 with 1 Axes>"
      ]
     },
     "metadata": {
      "needs_background": "light"
     },
     "output_type": "display_data"
    },
    {
     "data": {
      "text/plain": [
       "<Figure size 432x288 with 0 Axes>"
      ]
     },
     "metadata": {},
     "output_type": "display_data"
    },
    {
     "data": {
      "image/png": "[encoded data removed]",
      "text/plain": [
       "<Figure size 576x432 with 1 Axes>"
      ]
     },
     "metadata": {
      "needs_background": "light"
     },
     "output_type": "display_data"
    }
   ],
   "source": [
    "plt.figure(figsize=(8, 6))\n",
    "plt.plot(summary[\"point_estimator_regular_mc\"], color=\"r\", linewidth=2)\n",
    "plt.plot(summary[\"upper_bound_regular_mc\"], color=\"r\", linestyle=\"--\", alpha=0.5)\n",
    "plt.plot(summary[\"lower_bound_regular_mc\"], color=\"r\", linestyle=\"--\", alpha=0.5)\n",
    "plt.title(\"confidence interval of Asian Option pricing using regular monte carlo method\")\n",
    "plt.show()\n",
    "plt.clf()\n",
    "plt.figure(figsize=(8, 6))\n",
    "plt.plot(summary[\"point_estimator_control_variate\"], color=\"blue\", linewidth=2)\n",
    "plt.plot(summary[\"upper_bound_control_variate\"], color=\"blue\", linestyle=\"--\", alpha=0.5)\n",
    "plt.plot(summary[\"lower_bound_control_variate\"], color=\"blue\", linestyle=\"--\", alpha=0.5)\n",
    "plt.title(\"confidence interval of Asian Option pricing using control variate method\")\n",
    "plt.show()"
   ]
  },
  {
   "cell_type": "markdown",
   "id": "833075f8",
   "metadata": {},
   "source": [
    "### From the above two figures we can see that by using control variate method the point estimation is much more precise at the beginning with fewer trials.   \n",
    "### Besides, the standard error of estimation or the confidence interval is significantly lower than the one using regular monte carlo method."
   ]
  },
  {
   "cell_type": "code",
   "execution_count": null,
   "id": "0f387f6c",
   "metadata": {},
   "outputs": [],
   "source": []
  }
 ],
 "metadata": {
  "kernelspec": {
   "display_name": "Python 3 (ipykernel)",
   "language": "python",
   "name": "python3"
  },
  "language_info": {
   "codemirror_mode": {
    "name": "ipython",
    "version": 3
   },
   "file_extension": ".py",
   "mimetype": "text/x-python",
   "name": "python",
   "nbconvert_exporter": "python",
   "pygments_lexer": "ipython3",
   "version": "3.8.11"
  }
 },
 "nbformat": 4,
 "nbformat_minor": 5
}

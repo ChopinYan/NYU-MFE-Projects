{
 "cells": [
  {
   "cell_type": "markdown",
   "id": "934514ae",
   "metadata": {},
   "source": [
    "## <center> Home Assignment 3 </center>"
   ]
  },
  {
   "cell_type": "markdown",
   "id": "9aa6f9fe",
   "metadata": {},
   "source": [
    "<center>Zhengxuan Yan</center>\n",
    "<center>zy2053@nyu.edu</center>\n"
   ]
  },
  {
   "cell_type": "code",
   "execution_count": 1,
   "id": "754ba861",
   "metadata": {},
   "outputs": [],
   "source": [
    "import matplotlib.pyplot as plt\n",
    "\n",
    "from main import main\n",
    "from technical_strategies import (\n",
    "    TechnicalStrategy, \n",
    "    BuyHoldStrategy\n",
    ")\n",
    "\n",
    "\n",
    "INIT_INVESTMENT = 20000"
   ]
  },
  {
   "cell_type": "markdown",
   "id": "574604eb",
   "metadata": {},
   "source": [
    "#### Trading  Initialization   \n",
    "The self-designed back testing framework has several assumptions:\n",
    "1. Initial investment was `20k` dollars  \n",
    "2. Commission was `two-sided`, either buy (pay more) or sell (get less), and ratio was `0.00025`   \n",
    "4. Volume of each market order was `100 shares` and could be executed immediately  \n",
    "5. Data was of daily frequency and was extracted directly from `yahoo finance`: `yfinance` api when running the code  \n",
    "6. Ticker I chose was Tesla: `TSLA`\n",
    "7. The back-testing period was from `2010-06-30` to `2022-09-20`, which was the max I could extract from the api\n",
    "8. Technical strategy I used was `MACD`: `Gold Cross` = long signal whereas `Death Cross` = short signal    \n",
    "9. If there was a buy and hold but no death cross signal triggered until the end (no sell), we would close our position at the end of the back-testing period  \n",
    "10. There was no consecutive buy or selling orders, aka. a buy order should always be followed by a sell order. Besides, a round-trip should always be buy-sell trip since I assumed no financing (short) selling was only allowed when there were position in hand "
   ]
  },
  {
   "cell_type": "markdown",
   "id": "8ca07bc5",
   "metadata": {},
   "source": [
    "#### Instructions  \n",
    "Codes consists of several modules  \n",
    "1. `technical_strategies.py`: This includes the design of classes for Buy-and-Hold Strategies, Technical Strategies (MACD) etc.  \n",
    "2. `back_testing.py`: This includes the design of class for the BackTester.  \n",
    "3. `main.py`: This includes a main function which integrates strategy initialization, running and back testing.  \n",
    "4. `utils.py`: This includes some utilities for the calculation of performance indicators\n",
    "5. `log_trace.log`: This a log file which records info for all orders (time, price, size, buy/sell etc.). "
   ]
  },
  {
   "cell_type": "markdown",
   "id": "be0738de",
   "metadata": {},
   "source": [
    "#### MACD Strategy"
   ]
  },
  {
   "cell_type": "code",
   "execution_count": 2,
   "id": "c1022a39",
   "metadata": {},
   "outputs": [],
   "source": [
    "df_macd, matrix_macd, idx_macd = main(\n",
    "    investment=INIT_INVESTMENT,\n",
    "    symbol=\"TSLA\",\n",
    "    log_path=None,\n",
    "    strategy=TechnicalStrategy\n",
    ")  # , sr_macd\n",
    "df_macd.set_index(\"Date\", inplace=True)"
   ]
  },
  {
   "cell_type": "code",
   "execution_count": 3,
   "id": "7ba4367f",
   "metadata": {},
   "outputs": [
    {
     "data": {
      "text/html": [
       "<div>\n",
       "<style scoped>\n",
       "    .dataframe tbody tr th:only-of-type {\n",
       "        vertical-align: middle;\n",
       "    }\n",
       "\n",
       "    .dataframe tbody tr th {\n",
       "        vertical-align: top;\n",
       "    }\n",
       "\n",
       "    .dataframe thead th {\n",
       "        text-align: right;\n",
       "    }\n",
       "</style>\n",
       "<table border=\"1\" class=\"dataframe\">\n",
       "  <thead>\n",
       "    <tr style=\"text-align: right;\">\n",
       "      <th></th>\n",
       "      <th>Open</th>\n",
       "      <th>High</th>\n",
       "      <th>Low</th>\n",
       "      <th>Close</th>\n",
       "      <th>Volume</th>\n",
       "      <th>ema_12</th>\n",
       "      <th>ema_26</th>\n",
       "      <th>macd_line</th>\n",
       "      <th>signal_line</th>\n",
       "    </tr>\n",
       "    <tr>\n",
       "      <th>Date</th>\n",
       "      <th></th>\n",
       "      <th></th>\n",
       "      <th></th>\n",
       "      <th></th>\n",
       "      <th></th>\n",
       "      <th></th>\n",
       "      <th></th>\n",
       "      <th></th>\n",
       "      <th></th>\n",
       "    </tr>\n",
       "  </thead>\n",
       "  <tbody>\n",
       "    <tr>\n",
       "      <th>2010-06-29</th>\n",
       "      <td>1.266667</td>\n",
       "      <td>1.666667</td>\n",
       "      <td>1.169333</td>\n",
       "      <td>1.592667</td>\n",
       "      <td>281494500</td>\n",
       "      <td>1.592667</td>\n",
       "      <td>1.592667</td>\n",
       "      <td>0.000000</td>\n",
       "      <td>0.000000</td>\n",
       "    </tr>\n",
       "    <tr>\n",
       "      <th>2010-06-30</th>\n",
       "      <td>1.719333</td>\n",
       "      <td>2.028000</td>\n",
       "      <td>1.553333</td>\n",
       "      <td>1.588667</td>\n",
       "      <td>257806500</td>\n",
       "      <td>1.590500</td>\n",
       "      <td>1.590590</td>\n",
       "      <td>-0.000090</td>\n",
       "      <td>-0.000050</td>\n",
       "    </tr>\n",
       "    <tr>\n",
       "      <th>2010-07-01</th>\n",
       "      <td>1.666667</td>\n",
       "      <td>1.728000</td>\n",
       "      <td>1.351333</td>\n",
       "      <td>1.464000</td>\n",
       "      <td>123282000</td>\n",
       "      <td>1.541127</td>\n",
       "      <td>1.545107</td>\n",
       "      <td>-0.003980</td>\n",
       "      <td>-0.001661</td>\n",
       "    </tr>\n",
       "    <tr>\n",
       "      <th>2010-07-02</th>\n",
       "      <td>1.533333</td>\n",
       "      <td>1.540000</td>\n",
       "      <td>1.247333</td>\n",
       "      <td>1.280000</td>\n",
       "      <td>77097000</td>\n",
       "      <td>1.458700</td>\n",
       "      <td>1.470995</td>\n",
       "      <td>-0.012295</td>\n",
       "      <td>-0.005263</td>\n",
       "    </tr>\n",
       "    <tr>\n",
       "      <th>2010-07-06</th>\n",
       "      <td>1.333333</td>\n",
       "      <td>1.333333</td>\n",
       "      <td>1.055333</td>\n",
       "      <td>1.074000</td>\n",
       "      <td>103003500</td>\n",
       "      <td>1.354178</td>\n",
       "      <td>1.378930</td>\n",
       "      <td>-0.024752</td>\n",
       "      <td>-0.011061</td>\n",
       "    </tr>\n",
       "  </tbody>\n",
       "</table>\n",
       "</div>"
      ],
      "text/plain": [
       "                Open      High       Low     Close     Volume    ema_12  \\\n",
       "Date                                                                      \n",
       "2010-06-29  1.266667  1.666667  1.169333  1.592667  281494500  1.592667   \n",
       "2010-06-30  1.719333  2.028000  1.553333  1.588667  257806500  1.590500   \n",
       "2010-07-01  1.666667  1.728000  1.351333  1.464000  123282000  1.541127   \n",
       "2010-07-02  1.533333  1.540000  1.247333  1.280000   77097000  1.458700   \n",
       "2010-07-06  1.333333  1.333333  1.055333  1.074000  103003500  1.354178   \n",
       "\n",
       "              ema_26  macd_line  signal_line  \n",
       "Date                                          \n",
       "2010-06-29  1.592667   0.000000     0.000000  \n",
       "2010-06-30  1.590590  -0.000090    -0.000050  \n",
       "2010-07-01  1.545107  -0.003980    -0.001661  \n",
       "2010-07-02  1.470995  -0.012295    -0.005263  \n",
       "2010-07-06  1.378930  -0.024752    -0.011061  "
      ]
     },
     "execution_count": 3,
     "metadata": {},
     "output_type": "execute_result"
    }
   ],
   "source": [
    "df_macd.head()"
   ]
  },
  {
   "cell_type": "markdown",
   "id": "a289f81c",
   "metadata": {},
   "source": [
    "Signal trigger mechnism of MACD"
   ]
  },
  {
   "cell_type": "code",
   "execution_count": 4,
   "id": "37f01d95",
   "metadata": {
    "scrolled": false
   },
   "outputs": [
    {
     "data": {
      "image/png": "[encoded data removed]",
      "text/plain": [
       "<Figure size 720x432 with 1 Axes>"
      ]
     },
     "metadata": {
      "needs_background": "light"
     },
     "output_type": "display_data"
    }
   ],
   "source": [
    "plt.figure(figsize=(10, 6))\n",
    "\n",
    "plt.title(\"MACD and signal line\")\n",
    "plt.plot(df_macd.loc[\"2020\", \"macd_line\"], label=\"MACD\")\n",
    "plt.plot(df_macd.loc[\"2020\", \"signal_line\"], label=\"signal\")\n",
    "\n",
    "plt.grid()\n",
    "plt.show()"
   ]
  },
  {
   "cell_type": "code",
   "execution_count": 5,
   "id": "4357d65c",
   "metadata": {
    "scrolled": true
   },
   "outputs": [
    {
     "data": {
      "text/html": [
       "<div>\n",
       "<style scoped>\n",
       "    .dataframe tbody tr th:only-of-type {\n",
       "        vertical-align: middle;\n",
       "    }\n",
       "\n",
       "    .dataframe tbody tr th {\n",
       "        vertical-align: top;\n",
       "    }\n",
       "\n",
       "    .dataframe thead th {\n",
       "        text-align: right;\n",
       "    }\n",
       "</style>\n",
       "<table border=\"1\" class=\"dataframe\">\n",
       "  <thead>\n",
       "    <tr style=\"text-align: right;\">\n",
       "      <th></th>\n",
       "      <th>signal</th>\n",
       "      <th>position</th>\n",
       "      <th>close_price</th>\n",
       "      <th>cash</th>\n",
       "      <th>holdings</th>\n",
       "      <th>total</th>\n",
       "      <th>pnl</th>\n",
       "      <th>cum_return</th>\n",
       "    </tr>\n",
       "  </thead>\n",
       "  <tbody>\n",
       "    <tr>\n",
       "      <th>2022-09-13</th>\n",
       "      <td>hold</td>\n",
       "      <td>100</td>\n",
       "      <td>292.130005</td>\n",
       "      <td>11131.740363</td>\n",
       "      <td>29213.000488</td>\n",
       "      <td>40344.740852</td>\n",
       "      <td>20344.740852</td>\n",
       "      <td>1.017237</td>\n",
       "    </tr>\n",
       "    <tr>\n",
       "      <th>2022-09-14</th>\n",
       "      <td>hold</td>\n",
       "      <td>100</td>\n",
       "      <td>302.609985</td>\n",
       "      <td>11131.740363</td>\n",
       "      <td>30260.998535</td>\n",
       "      <td>41392.738899</td>\n",
       "      <td>21392.738899</td>\n",
       "      <td>1.069637</td>\n",
       "    </tr>\n",
       "    <tr>\n",
       "      <th>2022-09-15</th>\n",
       "      <td>hold</td>\n",
       "      <td>100</td>\n",
       "      <td>303.750000</td>\n",
       "      <td>11131.740363</td>\n",
       "      <td>30375.000000</td>\n",
       "      <td>41506.740363</td>\n",
       "      <td>21506.740363</td>\n",
       "      <td>1.075337</td>\n",
       "    </tr>\n",
       "    <tr>\n",
       "      <th>2022-09-16</th>\n",
       "      <td>hold</td>\n",
       "      <td>100</td>\n",
       "      <td>303.350006</td>\n",
       "      <td>11131.740363</td>\n",
       "      <td>30335.000610</td>\n",
       "      <td>41466.740974</td>\n",
       "      <td>21466.740974</td>\n",
       "      <td>1.073337</td>\n",
       "    </tr>\n",
       "    <tr>\n",
       "      <th>2022-09-19</th>\n",
       "      <td>sell</td>\n",
       "      <td>0</td>\n",
       "      <td>309.070007</td>\n",
       "      <td>42031.014346</td>\n",
       "      <td>0.000000</td>\n",
       "      <td>42031.014346</td>\n",
       "      <td>22031.014346</td>\n",
       "      <td>1.101551</td>\n",
       "    </tr>\n",
       "  </tbody>\n",
       "</table>\n",
       "</div>"
      ],
      "text/plain": [
       "           signal position  close_price          cash      holdings  \\\n",
       "2022-09-13   hold      100   292.130005  11131.740363  29213.000488   \n",
       "2022-09-14   hold      100   302.609985  11131.740363  30260.998535   \n",
       "2022-09-15   hold      100   303.750000  11131.740363  30375.000000   \n",
       "2022-09-16   hold      100   303.350006  11131.740363  30335.000610   \n",
       "2022-09-19   sell        0   309.070007  42031.014346      0.000000   \n",
       "\n",
       "                   total           pnl  cum_return  \n",
       "2022-09-13  40344.740852  20344.740852    1.017237  \n",
       "2022-09-14  41392.738899  21392.738899    1.069637  \n",
       "2022-09-15  41506.740363  21506.740363    1.075337  \n",
       "2022-09-16  41466.740974  21466.740974    1.073337  \n",
       "2022-09-19  42031.014346  22031.014346    1.101551  "
      ]
     },
     "execution_count": 5,
     "metadata": {},
     "output_type": "execute_result"
    }
   ],
   "source": [
    "matrix_macd.tail()"
   ]
  },
  {
   "cell_type": "markdown",
   "id": "a269f2e1",
   "metadata": {},
   "source": [
    "Performance of MACD Strategy on TSLA"
   ]
  },
  {
   "cell_type": "code",
   "execution_count": 6,
   "id": "5bb8f5bf",
   "metadata": {},
   "outputs": [
    {
     "data": {
      "image/png": "[encoded data removed]",
      "text/plain": [
       "<Figure size 720x432 with 1 Axes>"
      ]
     },
     "metadata": {
      "needs_background": "light"
     },
     "output_type": "display_data"
    }
   ],
   "source": [
    "plt.figure(figsize=(10, 6))\n",
    "\n",
    "plt.title(\"NAV of MACD Strategy on TSLA\")\n",
    "plt.plot((1 + matrix_macd[\"pnl\"].diff() / INIT_INVESTMENT).cumprod(), label=\"MACD\")\n",
    "\n",
    "plt.grid()\n",
    "plt.show()"
   ]
  },
  {
   "cell_type": "code",
   "execution_count": 7,
   "id": "2c8c974e",
   "metadata": {},
   "outputs": [
    {
     "data": {
      "text/html": [
       "<div>\n",
       "<style scoped>\n",
       "    .dataframe tbody tr th:only-of-type {\n",
       "        vertical-align: middle;\n",
       "    }\n",
       "\n",
       "    .dataframe tbody tr th {\n",
       "        vertical-align: top;\n",
       "    }\n",
       "\n",
       "    .dataframe thead th {\n",
       "        text-align: right;\n",
       "    }\n",
       "</style>\n",
       "<table border=\"1\" class=\"dataframe\">\n",
       "  <thead>\n",
       "    <tr style=\"text-align: right;\">\n",
       "      <th></th>\n",
       "      <th>annualized_return</th>\n",
       "      <th>annualized_volatility</th>\n",
       "      <th>total_return</th>\n",
       "      <th>annual_sharpe_ratio</th>\n",
       "      <th>maximum_drawdown</th>\n",
       "      <th>number_round_trip</th>\n",
       "      <th>z_score</th>\n",
       "      <th>p_value</th>\n",
       "    </tr>\n",
       "  </thead>\n",
       "  <tbody>\n",
       "    <tr>\n",
       "      <th>0</th>\n",
       "      <td>0.090215</td>\n",
       "      <td>0.241771</td>\n",
       "      <td>1.101551</td>\n",
       "      <td>0.373141</td>\n",
       "      <td>-0.883167</td>\n",
       "      <td>123</td>\n",
       "      <td>0.368672</td>\n",
       "      <td>0.356186</td>\n",
       "    </tr>\n",
       "  </tbody>\n",
       "</table>\n",
       "</div>"
      ],
      "text/plain": [
       "   annualized_return  annualized_volatility  total_return  \\\n",
       "0           0.090215               0.241771      1.101551   \n",
       "\n",
       "   annual_sharpe_ratio  maximum_drawdown  number_round_trip   z_score  \\\n",
       "0             0.373141         -0.883167                123  0.368672   \n",
       "\n",
       "    p_value  \n",
       "0  0.356186  "
      ]
     },
     "execution_count": 7,
     "metadata": {},
     "output_type": "execute_result"
    }
   ],
   "source": [
    "idx_macd"
   ]
  },
  {
   "cell_type": "markdown",
   "id": "8f8e8939",
   "metadata": {},
   "source": [
    "From the results above including nav plot, we can conclude that the performance of MACD strategy performs well with an annual return at around 10%. The total return doubled at the end of the back testing period. With the highest nav nearly 4 times the initial investment. But the volatility is also very high: nearly 24% with the 88% max drawdown (almost in the year 2022)  \n",
    "There were only 123 round trip which means there are only 246 orders in total (sample size). This can to some extent explain why the p-value of back-testing return is not significant or robust. "
   ]
  },
  {
   "cell_type": "markdown",
   "id": "558965c9",
   "metadata": {},
   "source": [
    "#### Buy and Hold Strategy"
   ]
  },
  {
   "cell_type": "code",
   "execution_count": 8,
   "id": "d0cf9302",
   "metadata": {},
   "outputs": [],
   "source": [
    "df_bh, matrix_bh, idx_bh = main(\n",
    "    investment=INIT_INVESTMENT,\n",
    "    symbol=\"TSLA\",\n",
    "    log_path=None,\n",
    "    strategy=BuyHoldStrategy\n",
    ")"
   ]
  },
  {
   "cell_type": "code",
   "execution_count": 9,
   "id": "2d281aa8",
   "metadata": {},
   "outputs": [
    {
     "data": {
      "text/html": [
       "<div>\n",
       "<style scoped>\n",
       "    .dataframe tbody tr th:only-of-type {\n",
       "        vertical-align: middle;\n",
       "    }\n",
       "\n",
       "    .dataframe tbody tr th {\n",
       "        vertical-align: top;\n",
       "    }\n",
       "\n",
       "    .dataframe thead th {\n",
       "        text-align: right;\n",
       "    }\n",
       "</style>\n",
       "<table border=\"1\" class=\"dataframe\">\n",
       "  <thead>\n",
       "    <tr style=\"text-align: right;\">\n",
       "      <th></th>\n",
       "      <th>signal</th>\n",
       "      <th>position</th>\n",
       "      <th>close_price</th>\n",
       "      <th>cash</th>\n",
       "      <th>holdings</th>\n",
       "      <th>total</th>\n",
       "      <th>pnl</th>\n",
       "      <th>cum_return</th>\n",
       "    </tr>\n",
       "  </thead>\n",
       "  <tbody>\n",
       "    <tr>\n",
       "      <th>2022-09-13</th>\n",
       "      <td>hold</td>\n",
       "      <td>100</td>\n",
       "      <td>292.130005</td>\n",
       "      <td>19840.693485</td>\n",
       "      <td>29213.000488</td>\n",
       "      <td>49053.693973</td>\n",
       "      <td>29053.693973</td>\n",
       "      <td>1.452685</td>\n",
       "    </tr>\n",
       "    <tr>\n",
       "      <th>2022-09-14</th>\n",
       "      <td>hold</td>\n",
       "      <td>100</td>\n",
       "      <td>302.609985</td>\n",
       "      <td>19840.693485</td>\n",
       "      <td>30260.998535</td>\n",
       "      <td>50101.692020</td>\n",
       "      <td>30101.692020</td>\n",
       "      <td>1.505085</td>\n",
       "    </tr>\n",
       "    <tr>\n",
       "      <th>2022-09-15</th>\n",
       "      <td>hold</td>\n",
       "      <td>100</td>\n",
       "      <td>303.750000</td>\n",
       "      <td>19840.693485</td>\n",
       "      <td>30375.000000</td>\n",
       "      <td>50215.693485</td>\n",
       "      <td>30215.693485</td>\n",
       "      <td>1.510785</td>\n",
       "    </tr>\n",
       "    <tr>\n",
       "      <th>2022-09-16</th>\n",
       "      <td>hold</td>\n",
       "      <td>100</td>\n",
       "      <td>303.350006</td>\n",
       "      <td>19840.693485</td>\n",
       "      <td>30335.000610</td>\n",
       "      <td>50175.694095</td>\n",
       "      <td>30175.694095</td>\n",
       "      <td>1.508785</td>\n",
       "    </tr>\n",
       "    <tr>\n",
       "      <th>2022-09-19</th>\n",
       "      <td>sell</td>\n",
       "      <td>0</td>\n",
       "      <td>309.070007</td>\n",
       "      <td>50739.967467</td>\n",
       "      <td>0.000000</td>\n",
       "      <td>50739.967467</td>\n",
       "      <td>30739.967467</td>\n",
       "      <td>1.536998</td>\n",
       "    </tr>\n",
       "  </tbody>\n",
       "</table>\n",
       "</div>"
      ],
      "text/plain": [
       "           signal position  close_price          cash      holdings  \\\n",
       "2022-09-13   hold      100   292.130005  19840.693485  29213.000488   \n",
       "2022-09-14   hold      100   302.609985  19840.693485  30260.998535   \n",
       "2022-09-15   hold      100   303.750000  19840.693485  30375.000000   \n",
       "2022-09-16   hold      100   303.350006  19840.693485  30335.000610   \n",
       "2022-09-19   sell        0   309.070007  50739.967467      0.000000   \n",
       "\n",
       "                   total           pnl  cum_return  \n",
       "2022-09-13  49053.693973  29053.693973    1.452685  \n",
       "2022-09-14  50101.692020  30101.692020    1.505085  \n",
       "2022-09-15  50215.693485  30215.693485    1.510785  \n",
       "2022-09-16  50175.694095  30175.694095    1.508785  \n",
       "2022-09-19  50739.967467  30739.967467    1.536998  "
      ]
     },
     "execution_count": 9,
     "metadata": {},
     "output_type": "execute_result"
    }
   ],
   "source": [
    "matrix_bh.tail()"
   ]
  },
  {
   "cell_type": "code",
   "execution_count": 10,
   "id": "fb9290a0",
   "metadata": {},
   "outputs": [
    {
     "data": {
      "image/png": "[encoded data removed]",
      "text/plain": [
       "<Figure size 720x432 with 1 Axes>"
      ]
     },
     "metadata": {
      "needs_background": "light"
     },
     "output_type": "display_data"
    }
   ],
   "source": [
    "plt.figure(figsize=(10, 6))\n",
    "\n",
    "plt.title(\"NAV of Buy and Hold Strategy on TSLA\")\n",
    "plt.plot((1 + matrix_bh[\"pnl\"].diff() / INIT_INVESTMENT).cumprod(), label=\"Buy and Hold\")\n",
    "\n",
    "plt.grid()\n",
    "plt.show()"
   ]
  },
  {
   "cell_type": "code",
   "execution_count": 11,
   "id": "daa229db",
   "metadata": {},
   "outputs": [
    {
     "data": {
      "text/html": [
       "<div>\n",
       "<style scoped>\n",
       "    .dataframe tbody tr th:only-of-type {\n",
       "        vertical-align: middle;\n",
       "    }\n",
       "\n",
       "    .dataframe tbody tr th {\n",
       "        vertical-align: top;\n",
       "    }\n",
       "\n",
       "    .dataframe thead th {\n",
       "        text-align: right;\n",
       "    }\n",
       "</style>\n",
       "<table border=\"1\" class=\"dataframe\">\n",
       "  <thead>\n",
       "    <tr style=\"text-align: right;\">\n",
       "      <th></th>\n",
       "      <th>annualized_return</th>\n",
       "      <th>annualized_volatility</th>\n",
       "      <th>total_return</th>\n",
       "      <th>annual_sharpe_ratio</th>\n",
       "      <th>maximum_drawdown</th>\n",
       "      <th>number_round_trip</th>\n",
       "      <th>z_score</th>\n",
       "      <th>p_value</th>\n",
       "    </tr>\n",
       "  </thead>\n",
       "  <tbody>\n",
       "    <tr>\n",
       "      <th>0</th>\n",
       "      <td>0.125877</td>\n",
       "      <td>0.338708</td>\n",
       "      <td>1.536998</td>\n",
       "      <td>0.371639</td>\n",
       "      <td>-1.002917</td>\n",
       "      <td>1</td>\n",
       "      <td>0.033108</td>\n",
       "      <td>0.486794</td>\n",
       "    </tr>\n",
       "  </tbody>\n",
       "</table>\n",
       "</div>"
      ],
      "text/plain": [
       "   annualized_return  annualized_volatility  total_return  \\\n",
       "0           0.125877               0.338708      1.536998   \n",
       "\n",
       "   annual_sharpe_ratio  maximum_drawdown  number_round_trip   z_score  \\\n",
       "0             0.371639         -1.002917                  1  0.033108   \n",
       "\n",
       "    p_value  \n",
       "0  0.486794  "
      ]
     },
     "execution_count": 11,
     "metadata": {},
     "output_type": "execute_result"
    }
   ],
   "source": [
    "idx_bh"
   ]
  },
  {
   "cell_type": "markdown",
   "id": "3e7cbf83",
   "metadata": {},
   "source": [
    "Since the MACD strategy shows a strong momentum, in order to check it out, I used Buy and Hold Strategy instead.  \n",
    "The performance is stunning, with a total return of 153%, annual return of 12%.  \n",
    "But there is also a lot of problems, the volatility is at a very high level, with annualized volatility at 33% and a 100% maximum draw down which means you may lose all of your money when you enter the market at some specific time.  \n",
    "Besides, the p-value also tells us that this buy and hold strategy makes no sense but just gambling, (very small sample size / not enough trades).  \n",
    "Though the performance using MACD is not as good as Buy and Hold, it can lower the volatility and add more robustness to the investment.  "
   ]
  },
  {
   "cell_type": "code",
   "execution_count": null,
   "id": "1e7ca199",
   "metadata": {},
   "outputs": [],
   "source": []
  }
 ],
 "metadata": {
  "kernelspec": {
   "display_name": "Python 3 (ipykernel)",
   "language": "python",
   "name": "python3"
  },
  "language_info": {
   "codemirror_mode": {
    "name": "ipython",
    "version": 3
   },
   "file_extension": ".py",
   "mimetype": "text/x-python",
   "name": "python",
   "nbconvert_exporter": "python",
   "pygments_lexer": "ipython3",
   "version": "3.8.11"
  }
 },
 "nbformat": 4,
 "nbformat_minor": 5
}
